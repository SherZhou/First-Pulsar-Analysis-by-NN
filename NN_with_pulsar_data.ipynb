{
  "cells": [
    {
      "cell_type": "markdown",
      "metadata": {
        "id": "view-in-github",
        "colab_type": "text"
      },
      "source": [
        "<a href=\"https://colab.research.google.com/github/SherZhou/First-Pulsar-Analysis-by-NN/blob/main/NN_with_pulsar_data.ipynb\" target=\"_parent\"><img src=\"https://colab.research.google.com/assets/colab-badge.svg\" alt=\"Open In Colab\"/></a>"
      ]
    },
    {
      "cell_type": "code",
      "execution_count": null,
      "metadata": {
        "id": "zTMlyJ50mmW0"
      },
      "outputs": [],
      "source": [
        "import numpy as np\n",
        "import pandas as pd\n",
        "import tensorflow as tf\n",
        "import matplotlib.pyplot as plt"
      ]
    },
    {
      "cell_type": "code",
      "execution_count": null,
      "metadata": {
        "colab": {
          "base_uri": "https://localhost:8080/",
          "height": 386
        },
        "id": "sX5uLHgPm6rv",
        "outputId": "a07e7792-456a-439c-ff81-bc329a84d22e"
      },
      "outputs": [
        {
          "output_type": "execute_result",
          "data": {
            "text/plain": [
              "      RAJ2000    DEJ2000        GLON       GLAT  Spectral_Index  \\\n",
              "0   95.734596  33.435699  179.940521   9.156562        2.095130   \n",
              "1  133.573196  44.145302  176.658417  40.073395        1.809473   \n",
              "2  196.714294 -21.777500  307.674133  40.952179        2.146640   \n",
              "3  322.890808  -9.252800   43.894054 -39.666561        2.024412   \n",
              "4   70.082100 -25.014900  224.260254 -39.008392        1.724326   \n",
              "\n",
              "   Energy_Flux100  Variability_Index  Conf_68_SemiMajor  Conf_68_SemiMinor  \\\n",
              "0    7.052909e-11           8.071574           0.011594           0.010731   \n",
              "1    1.969699e-12           3.616089           0.052360           0.044774   \n",
              "2    3.838126e-12           3.582412           0.060131           0.050263   \n",
              "3    9.606827e-12           3.984136           0.021585           0.020414   \n",
              "4    2.226922e-12           3.559208           0.042061           0.040951   \n",
              "\n",
              "   Conf_68_PosAng  ...    SED100_300   SED300_1000  SED1000_3000  \\\n",
              "0      -70.209999  ...  1.564077e-11  1.546385e-11  1.247502e-11   \n",
              "1       76.000000  ...  3.562510e-13  7.509623e-17  2.328259e-13   \n",
              "2      -63.889999  ...  9.910775e-13  4.634844e-13  6.180396e-13   \n",
              "3      -19.200001  ...  1.653001e-12  1.823058e-12  9.776664e-13   \n",
              "4       14.810000  ...  1.931473e-14  5.090122e-18  2.462666e-13   \n",
              "\n",
              "   SED3000_10000  SED10000_100000      hr12      hr23      hr34      hr45  \\\n",
              "0   9.954384e-12     5.336531e-12 -0.005688 -0.106978 -0.112381 -0.302000   \n",
              "1   5.726554e-13     2.570380e-13 -0.999578  0.999355  0.421896 -0.380402   \n",
              "2   5.043158e-13     2.370166e-13 -0.362716  0.142905 -0.101326 -0.360566   \n",
              "3   1.121859e-12     2.038277e-12  0.048922 -0.301848  0.068679  0.289993   \n",
              "4   6.128085e-13     1.776052e-13 -0.999473  0.999959  0.426670 -0.550602   \n",
              "\n",
              "   pulsarness  \n",
              "0  Non-Pulsar  \n",
              "1  Non-Pulsar  \n",
              "2  Non-Pulsar  \n",
              "3  Non-Pulsar  \n",
              "4  Non-Pulsar  \n",
              "\n",
              "[5 rows x 36 columns]"
            ],
            "text/html": [
              "\n",
              "  <div id=\"df-ccd6271d-e90d-429b-892c-3ba4ef7ca131\">\n",
              "    <div class=\"colab-df-container\">\n",
              "      <div>\n",
              "<style scoped>\n",
              "    .dataframe tbody tr th:only-of-type {\n",
              "        vertical-align: middle;\n",
              "    }\n",
              "\n",
              "    .dataframe tbody tr th {\n",
              "        vertical-align: top;\n",
              "    }\n",
              "\n",
              "    .dataframe thead th {\n",
              "        text-align: right;\n",
              "    }\n",
              "</style>\n",
              "<table border=\"1\" class=\"dataframe\">\n",
              "  <thead>\n",
              "    <tr style=\"text-align: right;\">\n",
              "      <th></th>\n",
              "      <th>RAJ2000</th>\n",
              "      <th>DEJ2000</th>\n",
              "      <th>GLON</th>\n",
              "      <th>GLAT</th>\n",
              "      <th>Spectral_Index</th>\n",
              "      <th>Energy_Flux100</th>\n",
              "      <th>Variability_Index</th>\n",
              "      <th>Conf_68_SemiMajor</th>\n",
              "      <th>Conf_68_SemiMinor</th>\n",
              "      <th>Conf_68_PosAng</th>\n",
              "      <th>...</th>\n",
              "      <th>SED100_300</th>\n",
              "      <th>SED300_1000</th>\n",
              "      <th>SED1000_3000</th>\n",
              "      <th>SED3000_10000</th>\n",
              "      <th>SED10000_100000</th>\n",
              "      <th>hr12</th>\n",
              "      <th>hr23</th>\n",
              "      <th>hr34</th>\n",
              "      <th>hr45</th>\n",
              "      <th>pulsarness</th>\n",
              "    </tr>\n",
              "  </thead>\n",
              "  <tbody>\n",
              "    <tr>\n",
              "      <th>0</th>\n",
              "      <td>95.734596</td>\n",
              "      <td>33.435699</td>\n",
              "      <td>179.940521</td>\n",
              "      <td>9.156562</td>\n",
              "      <td>2.095130</td>\n",
              "      <td>7.052909e-11</td>\n",
              "      <td>8.071574</td>\n",
              "      <td>0.011594</td>\n",
              "      <td>0.010731</td>\n",
              "      <td>-70.209999</td>\n",
              "      <td>...</td>\n",
              "      <td>1.564077e-11</td>\n",
              "      <td>1.546385e-11</td>\n",
              "      <td>1.247502e-11</td>\n",
              "      <td>9.954384e-12</td>\n",
              "      <td>5.336531e-12</td>\n",
              "      <td>-0.005688</td>\n",
              "      <td>-0.106978</td>\n",
              "      <td>-0.112381</td>\n",
              "      <td>-0.302000</td>\n",
              "      <td>Non-Pulsar</td>\n",
              "    </tr>\n",
              "    <tr>\n",
              "      <th>1</th>\n",
              "      <td>133.573196</td>\n",
              "      <td>44.145302</td>\n",
              "      <td>176.658417</td>\n",
              "      <td>40.073395</td>\n",
              "      <td>1.809473</td>\n",
              "      <td>1.969699e-12</td>\n",
              "      <td>3.616089</td>\n",
              "      <td>0.052360</td>\n",
              "      <td>0.044774</td>\n",
              "      <td>76.000000</td>\n",
              "      <td>...</td>\n",
              "      <td>3.562510e-13</td>\n",
              "      <td>7.509623e-17</td>\n",
              "      <td>2.328259e-13</td>\n",
              "      <td>5.726554e-13</td>\n",
              "      <td>2.570380e-13</td>\n",
              "      <td>-0.999578</td>\n",
              "      <td>0.999355</td>\n",
              "      <td>0.421896</td>\n",
              "      <td>-0.380402</td>\n",
              "      <td>Non-Pulsar</td>\n",
              "    </tr>\n",
              "    <tr>\n",
              "      <th>2</th>\n",
              "      <td>196.714294</td>\n",
              "      <td>-21.777500</td>\n",
              "      <td>307.674133</td>\n",
              "      <td>40.952179</td>\n",
              "      <td>2.146640</td>\n",
              "      <td>3.838126e-12</td>\n",
              "      <td>3.582412</td>\n",
              "      <td>0.060131</td>\n",
              "      <td>0.050263</td>\n",
              "      <td>-63.889999</td>\n",
              "      <td>...</td>\n",
              "      <td>9.910775e-13</td>\n",
              "      <td>4.634844e-13</td>\n",
              "      <td>6.180396e-13</td>\n",
              "      <td>5.043158e-13</td>\n",
              "      <td>2.370166e-13</td>\n",
              "      <td>-0.362716</td>\n",
              "      <td>0.142905</td>\n",
              "      <td>-0.101326</td>\n",
              "      <td>-0.360566</td>\n",
              "      <td>Non-Pulsar</td>\n",
              "    </tr>\n",
              "    <tr>\n",
              "      <th>3</th>\n",
              "      <td>322.890808</td>\n",
              "      <td>-9.252800</td>\n",
              "      <td>43.894054</td>\n",
              "      <td>-39.666561</td>\n",
              "      <td>2.024412</td>\n",
              "      <td>9.606827e-12</td>\n",
              "      <td>3.984136</td>\n",
              "      <td>0.021585</td>\n",
              "      <td>0.020414</td>\n",
              "      <td>-19.200001</td>\n",
              "      <td>...</td>\n",
              "      <td>1.653001e-12</td>\n",
              "      <td>1.823058e-12</td>\n",
              "      <td>9.776664e-13</td>\n",
              "      <td>1.121859e-12</td>\n",
              "      <td>2.038277e-12</td>\n",
              "      <td>0.048922</td>\n",
              "      <td>-0.301848</td>\n",
              "      <td>0.068679</td>\n",
              "      <td>0.289993</td>\n",
              "      <td>Non-Pulsar</td>\n",
              "    </tr>\n",
              "    <tr>\n",
              "      <th>4</th>\n",
              "      <td>70.082100</td>\n",
              "      <td>-25.014900</td>\n",
              "      <td>224.260254</td>\n",
              "      <td>-39.008392</td>\n",
              "      <td>1.724326</td>\n",
              "      <td>2.226922e-12</td>\n",
              "      <td>3.559208</td>\n",
              "      <td>0.042061</td>\n",
              "      <td>0.040951</td>\n",
              "      <td>14.810000</td>\n",
              "      <td>...</td>\n",
              "      <td>1.931473e-14</td>\n",
              "      <td>5.090122e-18</td>\n",
              "      <td>2.462666e-13</td>\n",
              "      <td>6.128085e-13</td>\n",
              "      <td>1.776052e-13</td>\n",
              "      <td>-0.999473</td>\n",
              "      <td>0.999959</td>\n",
              "      <td>0.426670</td>\n",
              "      <td>-0.550602</td>\n",
              "      <td>Non-Pulsar</td>\n",
              "    </tr>\n",
              "  </tbody>\n",
              "</table>\n",
              "<p>5 rows × 36 columns</p>\n",
              "</div>\n",
              "      <button class=\"colab-df-convert\" onclick=\"convertToInteractive('df-ccd6271d-e90d-429b-892c-3ba4ef7ca131')\"\n",
              "              title=\"Convert this dataframe to an interactive table.\"\n",
              "              style=\"display:none;\">\n",
              "        \n",
              "  <svg xmlns=\"http://www.w3.org/2000/svg\" height=\"24px\"viewBox=\"0 0 24 24\"\n",
              "       width=\"24px\">\n",
              "    <path d=\"M0 0h24v24H0V0z\" fill=\"none\"/>\n",
              "    <path d=\"M18.56 5.44l.94 2.06.94-2.06 2.06-.94-2.06-.94-.94-2.06-.94 2.06-2.06.94zm-11 1L8.5 8.5l.94-2.06 2.06-.94-2.06-.94L8.5 2.5l-.94 2.06-2.06.94zm10 10l.94 2.06.94-2.06 2.06-.94-2.06-.94-.94-2.06-.94 2.06-2.06.94z\"/><path d=\"M17.41 7.96l-1.37-1.37c-.4-.4-.92-.59-1.43-.59-.52 0-1.04.2-1.43.59L10.3 9.45l-7.72 7.72c-.78.78-.78 2.05 0 2.83L4 21.41c.39.39.9.59 1.41.59.51 0 1.02-.2 1.41-.59l7.78-7.78 2.81-2.81c.8-.78.8-2.07 0-2.86zM5.41 20L4 18.59l7.72-7.72 1.47 1.35L5.41 20z\"/>\n",
              "  </svg>\n",
              "      </button>\n",
              "      \n",
              "  <style>\n",
              "    .colab-df-container {\n",
              "      display:flex;\n",
              "      flex-wrap:wrap;\n",
              "      gap: 12px;\n",
              "    }\n",
              "\n",
              "    .colab-df-convert {\n",
              "      background-color: #E8F0FE;\n",
              "      border: none;\n",
              "      border-radius: 50%;\n",
              "      cursor: pointer;\n",
              "      display: none;\n",
              "      fill: #1967D2;\n",
              "      height: 32px;\n",
              "      padding: 0 0 0 0;\n",
              "      width: 32px;\n",
              "    }\n",
              "\n",
              "    .colab-df-convert:hover {\n",
              "      background-color: #E2EBFA;\n",
              "      box-shadow: 0px 1px 2px rgba(60, 64, 67, 0.3), 0px 1px 3px 1px rgba(60, 64, 67, 0.15);\n",
              "      fill: #174EA6;\n",
              "    }\n",
              "\n",
              "    [theme=dark] .colab-df-convert {\n",
              "      background-color: #3B4455;\n",
              "      fill: #D2E3FC;\n",
              "    }\n",
              "\n",
              "    [theme=dark] .colab-df-convert:hover {\n",
              "      background-color: #434B5C;\n",
              "      box-shadow: 0px 1px 3px 1px rgba(0, 0, 0, 0.15);\n",
              "      filter: drop-shadow(0px 1px 2px rgba(0, 0, 0, 0.3));\n",
              "      fill: #FFFFFF;\n",
              "    }\n",
              "  </style>\n",
              "\n",
              "      <script>\n",
              "        const buttonEl =\n",
              "          document.querySelector('#df-ccd6271d-e90d-429b-892c-3ba4ef7ca131 button.colab-df-convert');\n",
              "        buttonEl.style.display =\n",
              "          google.colab.kernel.accessAllowed ? 'block' : 'none';\n",
              "\n",
              "        async function convertToInteractive(key) {\n",
              "          const element = document.querySelector('#df-ccd6271d-e90d-429b-892c-3ba4ef7ca131');\n",
              "          const dataTable =\n",
              "            await google.colab.kernel.invokeFunction('convertToInteractive',\n",
              "                                                     [key], {});\n",
              "          if (!dataTable) return;\n",
              "\n",
              "          const docLinkHtml = 'Like what you see? Visit the ' +\n",
              "            '<a target=\"_blank\" href=https://colab.research.google.com/notebooks/data_table.ipynb>data table notebook</a>'\n",
              "            + ' to learn more about interactive tables.';\n",
              "          element.innerHTML = '';\n",
              "          dataTable['output_type'] = 'display_data';\n",
              "          await google.colab.output.renderOutput(dataTable, element);\n",
              "          const docLink = document.createElement('div');\n",
              "          docLink.innerHTML = docLinkHtml;\n",
              "          element.appendChild(docLink);\n",
              "        }\n",
              "      </script>\n",
              "    </div>\n",
              "  </div>\n",
              "  "
            ]
          },
          "metadata": {},
          "execution_count": 4
        }
      ],
      "source": [
        "train = pd.read_csv(\"/content/drive/MyDrive/pulsar/train_agnpsr_3fgl.csv\")\n",
        "test = pd.read_csv(\"/content/drive/MyDrive/pulsar/test_agnpsr_3fgl.csv\")\n",
        "train.pop('Unnamed: 0')\n",
        "test.pop('Unnamed: 0')\n",
        "train.head()"
      ]
    },
    {
      "cell_type": "code",
      "source": [
        "# calculate and drop nan value\n",
        "train.isna().sum()"
      ],
      "metadata": {
        "id": "4h1EyIDVpq94",
        "outputId": "83536955-8e4c-486a-bffb-65d20c7dff45",
        "colab": {
          "base_uri": "https://localhost:8080/"
        }
      },
      "execution_count": null,
      "outputs": [
        {
          "output_type": "execute_result",
          "data": {
            "text/plain": [
              "RAJ2000               0\n",
              "DEJ2000               0\n",
              "GLON                  0\n",
              "GLAT                  0\n",
              "Spectral_Index        0\n",
              "Energy_Flux100        0\n",
              "Variability_Index     0\n",
              "Conf_68_SemiMajor     0\n",
              "Conf_68_SemiMinor     0\n",
              "Conf_68_PosAng        0\n",
              "Conf_95_SemiMajor     0\n",
              "Conf_95_SemiMinor     0\n",
              "Conf_95_PosAng        0\n",
              "Signif_Avg            0\n",
              "Pivot_Energy          0\n",
              "Flux_Density          0\n",
              "Unc_Flux_Density      0\n",
              "Flux1000              0\n",
              "Unc_Flux1000          0\n",
              "Unc_Energy_Flux100    0\n",
              "Signif_Curve          0\n",
              "Flux100_300           0\n",
              "Flux300_1000          0\n",
              "Flux1000_3000         0\n",
              "Flux3000_10000        0\n",
              "Flux10000_100000      0\n",
              "SED100_300            0\n",
              "SED300_1000           0\n",
              "SED1000_3000          0\n",
              "SED3000_10000         0\n",
              "SED10000_100000       0\n",
              "hr12                  0\n",
              "hr23                  0\n",
              "hr34                  0\n",
              "hr45                  0\n",
              "pulsarness            0\n",
              "dtype: int64"
            ]
          },
          "metadata": {},
          "execution_count": 5
        }
      ]
    },
    {
      "cell_type": "code",
      "execution_count": null,
      "metadata": {
        "colab": {
          "base_uri": "https://localhost:8080/"
        },
        "id": "bzemV3OHm-bI",
        "outputId": "fbd42bac-9468-4e63-e84f-8e465cf2167b"
      },
      "outputs": [
        {
          "output_type": "stream",
          "name": "stdout",
          "text": [
            "1333 36\n"
          ]
        }
      ],
      "source": [
        "print(train.shape[0],train.shape[1])"
      ]
    },
    {
      "cell_type": "code",
      "execution_count": null,
      "metadata": {
        "id": "fPVvp3Z4HU3R"
      },
      "outputs": [],
      "source": [
        "# change target into number\n",
        "train['pulsarness'] = pd.Categorical(train['pulsarness'])\n",
        "train['pulsarness'] = train.pulsarness.cat.codes\n",
        "test['pulsarness'] = pd.Categorical(test['pulsarness'])\n",
        "test['pulsarness'] = test.pulsarness.cat.codes"
      ]
    },
    {
      "cell_type": "code",
      "execution_count": null,
      "metadata": {
        "id": "uUqWwiz6ssSY"
      },
      "outputs": [],
      "source": [
        "\n",
        "# data['target_class'] = data['target_class'].replace([1],-1)\n",
        "# data['target_class'] = data['target_class'].replace([0],1)"
      ]
    },
    {
      "cell_type": "code",
      "execution_count": null,
      "metadata": {
        "id": "ik8JQfx3scig"
      },
      "outputs": [],
      "source": [
        "# split train and target\n",
        "x_train = train.drop(['pulsarness'], axis=1)\n",
        "x_test = test.drop(['pulsarness'], axis=1)\n",
        "y_train = train['pulsarness']\n",
        "y_test = test['pulsarness']"
      ]
    },
    {
      "cell_type": "code",
      "source": [
        "# change target as the format of int32\n",
        "y_train = y_train.astype('int32')\n",
        "y_test = y_test.astype('int32')"
      ],
      "metadata": {
        "id": "w7RfiuTGQjVe"
      },
      "execution_count": null,
      "outputs": []
    },
    {
      "cell_type": "code",
      "execution_count": null,
      "metadata": {
        "colab": {
          "base_uri": "https://localhost:8080/"
        },
        "id": "iieyqwv5kwRo",
        "outputId": "5ae59693-4364-402b-86ec-301bd28d93e3"
      },
      "outputs": [
        {
          "output_type": "stream",
          "name": "stdout",
          "text": [
            "<class 'pandas.core.frame.DataFrame'>\n",
            "RangeIndex: 1333 entries, 0 to 1332\n",
            "Data columns (total 36 columns):\n",
            " #   Column              Non-Null Count  Dtype  \n",
            "---  ------              --------------  -----  \n",
            " 0   RAJ2000             1333 non-null   float64\n",
            " 1   DEJ2000             1333 non-null   float64\n",
            " 2   GLON                1333 non-null   float64\n",
            " 3   GLAT                1333 non-null   float64\n",
            " 4   Spectral_Index      1333 non-null   float64\n",
            " 5   Energy_Flux100      1333 non-null   float64\n",
            " 6   Variability_Index   1333 non-null   float64\n",
            " 7   Conf_68_SemiMajor   1333 non-null   float64\n",
            " 8   Conf_68_SemiMinor   1333 non-null   float64\n",
            " 9   Conf_68_PosAng      1333 non-null   float64\n",
            " 10  Conf_95_SemiMajor   1333 non-null   float64\n",
            " 11  Conf_95_SemiMinor   1333 non-null   float64\n",
            " 12  Conf_95_PosAng      1333 non-null   float64\n",
            " 13  Signif_Avg          1333 non-null   float64\n",
            " 14  Pivot_Energy        1333 non-null   float64\n",
            " 15  Flux_Density        1333 non-null   float64\n",
            " 16  Unc_Flux_Density    1333 non-null   float64\n",
            " 17  Flux1000            1333 non-null   float64\n",
            " 18  Unc_Flux1000        1333 non-null   float64\n",
            " 19  Unc_Energy_Flux100  1333 non-null   float64\n",
            " 20  Signif_Curve        1333 non-null   float64\n",
            " 21  Flux100_300         1333 non-null   float64\n",
            " 22  Flux300_1000        1333 non-null   float64\n",
            " 23  Flux1000_3000       1333 non-null   float64\n",
            " 24  Flux3000_10000      1333 non-null   float64\n",
            " 25  Flux10000_100000    1333 non-null   float64\n",
            " 26  SED100_300          1333 non-null   float64\n",
            " 27  SED300_1000         1333 non-null   float64\n",
            " 28  SED1000_3000        1333 non-null   float64\n",
            " 29  SED3000_10000       1333 non-null   float64\n",
            " 30  SED10000_100000     1333 non-null   float64\n",
            " 31  hr12                1333 non-null   float64\n",
            " 32  hr23                1333 non-null   float64\n",
            " 33  hr34                1333 non-null   float64\n",
            " 34  hr45                1333 non-null   float64\n",
            " 35  pulsarness          1333 non-null   int8   \n",
            "dtypes: float64(35), int8(1)\n",
            "memory usage: 365.9 KB\n"
          ]
        }
      ],
      "source": [
        "train.info()\n"
      ]
    },
    {
      "cell_type": "markdown",
      "source": [
        " ## dnn with tensorflow\n"
      ],
      "metadata": {
        "id": "Q0fHcrM4WStc"
      }
    },
    {
      "cell_type": "code",
      "source": [
        "dataset = tf.data.Dataset.from_tensor_slices((x_train.values, y_train.values))"
      ],
      "metadata": {
        "id": "eDZou5HiTxtL"
      },
      "execution_count": null,
      "outputs": []
    },
    {
      "cell_type": "code",
      "execution_count": null,
      "metadata": {
        "id": "3PqMRnsNIX5U"
      },
      "outputs": [],
      "source": [
        "# dataset = tf.data.Dataset.from_tensor_slices((train.values, target.values))"
      ]
    },
    {
      "cell_type": "code",
      "execution_count": null,
      "metadata": {
        "colab": {
          "base_uri": "https://localhost:8080/"
        },
        "id": "NcOgYOofIj_Z",
        "outputId": "e230cda3-6614-4731-fa06-214ae27497c1"
      },
      "outputs": [
        {
          "output_type": "stream",
          "name": "stdout",
          "text": [
            "Features: [ 9.57345963e+01  3.34356995e+01  1.79940521e+02  9.15656185e+00\n",
            "  2.09512973e+00  7.05290895e-11  8.07157405e+00  1.15944734e-02\n",
            "  1.07310554e-02 -7.02099991e+01  1.87999997e-02  1.74000002e-02\n",
            " -7.02099991e+01  5.61443443e+01  6.22975423e+00 -2.40132684e+01\n",
            " -2.75127237e+01  7.03040426e-09  2.41814430e-10 -2.67426522e+01\n",
            "  1.08934402e+00  6.57228227e-08  2.27865282e-08  5.24202548e-09\n",
            "  1.46681378e-09 -2.18877278e+01  1.56407717e-11  1.54638484e-11\n",
            "  1.24750156e-11  9.95438434e-12  5.33653082e-12 -5.68800576e-03\n",
            " -1.06977609e-01 -1.12380680e-01 -3.01999813e-01], Target: 0\n",
            "Features: [ 1.33573196e+02  4.41453018e+01  1.76658417e+02  4.00733948e+01\n",
            "  1.80947304e+00  1.96969914e-12  3.61608900e+00  5.23601472e-02\n",
            "  4.47744019e-02  7.60000000e+01  8.48999992e-02  7.25999996e-02\n",
            "  7.60000000e+01  4.32555771e+00  8.35960441e+00 -3.22746459e+01\n",
            " -3.34470409e+01  1.60510910e-10  5.07220342e-11 -2.80902571e+01\n",
            "  4.93825626e-01  1.45729451e-09  1.07156187e-13  9.52406834e-11\n",
            "  8.17132473e-11 -2.50322270e+01  3.56251034e-13  7.50962346e-17\n",
            "  2.32825910e-13  5.72655428e-13  2.57037986e-13 -9.99578497e-01\n",
            "  9.99355123e-01  4.21896203e-01 -3.80402491e-01], Target: 0\n",
            "Features: [ 1.96714294e+02 -2.17775002e+01  3.07674133e+02  4.09521790e+01\n",
            "  2.14663982e+00  3.83812556e-12  3.58241228e+00  6.01309091e-02\n",
            "  5.02632745e-02 -6.38899994e+01  9.74999964e-02  8.15000013e-02\n",
            " -6.38899994e+01  4.30601454e+00  7.87712783e+00 -3.06444050e+01\n",
            " -3.19694688e+01  3.41573658e-10  9.10178530e-11 -2.75825646e+01\n",
            "  3.23745257e-01  4.18818713e-09  6.87600921e-10  2.61176913e-10\n",
            "  7.48176313e-11 -2.49788668e+01  9.91077454e-13  4.63484384e-13\n",
            "  6.18039601e-13  5.04315842e-13  2.37016631e-13 -3.62716151e-01\n",
            "  1.42905030e-01 -1.01325975e-01 -3.60565901e-01], Target: 0\n",
            "Features: [ 3.22890808e+02 -9.25279999e+00  4.38940544e+01 -3.96665611e+01\n",
            "  2.02441216e+00  9.60682662e-12  3.98413613e+00  2.15854552e-02\n",
            "  2.04136744e-02 -1.92000008e+01  3.50000001e-02  3.31000015e-02\n",
            " -1.92000008e+01  1.36761198e+01  7.65279908e+00 -2.92537998e+01\n",
            " -3.14349027e+01  8.62940497e-10  9.84450091e-11 -2.75223407e+01\n",
            "  3.86045084e-01  6.89492108e-09  2.66276179e-09  4.07799600e-10\n",
            "  1.63858926e-10 -2.28804280e+01  1.65300127e-12  1.82305842e-12\n",
            "  9.77666382e-13  1.12185926e-12  2.03827705e-12  4.89223927e-02\n",
            " -3.01847593e-01  6.86787872e-02  2.89993122e-01], Target: 0\n",
            "Features: [ 7.00820999e+01 -2.50149002e+01  2.24260254e+02 -3.90083923e+01\n",
            "  1.72432625e+00  2.22692156e-12  3.55920783e+00  4.20607999e-02\n",
            "  4.09506932e-02  1.48100004e+01  6.81999996e-02  6.63999990e-02\n",
            "  1.48100004e+01  4.67497253e+00  8.53843378e+00 -3.25103085e+01\n",
            " -3.36735994e+01  1.68453071e-10  5.47524456e-11 -2.79264053e+01\n",
            "  8.41417004e-01  7.84984022e-11  7.20691630e-15  1.00086980e-10\n",
            "  8.67653033e-11 -2.54293389e+01  1.93147309e-14  5.09012203e-18\n",
            "  2.46266554e-13  6.12808535e-13  1.77605181e-13 -9.99473067e-01\n",
            "  9.99958663e-01  4.26670481e-01 -5.50601977e-01], Target: 0\n"
          ]
        }
      ],
      "source": [
        "for feat, targ in dataset.take(5):\n",
        "  print ('Features: {}, Target: {}'.format(feat, targ))"
      ]
    },
    {
      "cell_type": "code",
      "execution_count": null,
      "metadata": {
        "id": "SbBqoLK3IwZZ"
      },
      "outputs": [],
      "source": [
        "train_dataset = dataset.shuffle(len(train)).batch(1)"
      ]
    },
    {
      "cell_type": "code",
      "execution_count": null,
      "metadata": {
        "id": "lHO6DSSRJCX1"
      },
      "outputs": [],
      "source": [
        "def get_compiled_model():\n",
        "  model = tf.keras.Sequential([\n",
        "    tf.keras.layers.Dense(10, activation='relu'),\n",
        "    tf.keras.layers.Dense(10, activation='relu'),\n",
        "    tf.keras.layers.Dense(1, activation='sigmoid')\n",
        "  ])\n",
        "\n",
        "  model.compile(optimizer='adam',\n",
        "                loss='binary_crossentropy',\n",
        "                metrics=['accuracy'])\n",
        "  return model"
      ]
    },
    {
      "cell_type": "code",
      "source": [
        "def get_compiled_model12():\n",
        "  model = tf.keras.Sequential([\n",
        "    tf.keras.layers.Dense(10, activation='relu'),\n",
        "    tf.keras.layers.Dense(10, activation='relu'),\n",
        "    tf.keras.layers.Dense(10, activation='relu'),\n",
        "    tf.keras.layers.Dense(1, activation='sigmoid')\n",
        "  ])\n",
        "\n",
        "  model.compile(optimizer='adam',\n",
        "                loss='binary_crossentropy',\n",
        "                metrics=['accuracy'])\n",
        "  return model"
      ],
      "metadata": {
        "id": "Gu_0xkykv9f-"
      },
      "execution_count": null,
      "outputs": []
    },
    {
      "cell_type": "code",
      "source": [],
      "metadata": {
        "id": "R88OYjXEwCMB"
      },
      "execution_count": null,
      "outputs": []
    },
    {
      "cell_type": "code",
      "execution_count": null,
      "metadata": {
        "colab": {
          "base_uri": "https://localhost:8080/"
        },
        "id": "JjNBGt3bJIhj",
        "outputId": "e9f475a0-a1c9-47b6-e6ae-131b7b401483"
      },
      "outputs": [
        {
          "output_type": "stream",
          "name": "stdout",
          "text": [
            "Epoch 1/100\n",
            "1333/1333 [==============================] - 4s 2ms/step - loss: 1.8124 - accuracy: 0.8320 - val_loss: 0.3910 - val_accuracy: 0.9037\n",
            "Epoch 2/100\n",
            "1333/1333 [==============================] - 2s 2ms/step - loss: 0.3888 - accuracy: 0.9032 - val_loss: 0.3983 - val_accuracy: 0.9019\n",
            "Epoch 3/100\n",
            "1333/1333 [==============================] - 2s 2ms/step - loss: 0.3047 - accuracy: 0.9047 - val_loss: 0.3511 - val_accuracy: 0.9089\n",
            "Epoch 4/100\n",
            "1333/1333 [==============================] - 3s 2ms/step - loss: 0.2960 - accuracy: 0.9100 - val_loss: 0.3548 - val_accuracy: 0.8949\n",
            "Epoch 5/100\n",
            "1333/1333 [==============================] - 2s 2ms/step - loss: 0.2719 - accuracy: 0.9115 - val_loss: 0.3289 - val_accuracy: 0.8932\n",
            "Epoch 6/100\n",
            "1333/1333 [==============================] - 3s 2ms/step - loss: 0.2598 - accuracy: 0.9152 - val_loss: 0.3034 - val_accuracy: 0.9124\n",
            "Epoch 7/100\n",
            "1333/1333 [==============================] - 2s 2ms/step - loss: 0.2577 - accuracy: 0.9137 - val_loss: 0.2751 - val_accuracy: 0.9019\n",
            "Epoch 8/100\n",
            "1333/1333 [==============================] - 2s 2ms/step - loss: 0.2470 - accuracy: 0.9175 - val_loss: 0.2706 - val_accuracy: 0.9072\n",
            "Epoch 9/100\n",
            "1333/1333 [==============================] - 2s 2ms/step - loss: 0.2306 - accuracy: 0.9182 - val_loss: 0.2934 - val_accuracy: 0.9089\n",
            "Epoch 10/100\n",
            "1333/1333 [==============================] - 3s 2ms/step - loss: 0.2360 - accuracy: 0.9220 - val_loss: 0.2688 - val_accuracy: 0.9054\n",
            "Epoch 11/100\n",
            "1333/1333 [==============================] - 3s 2ms/step - loss: 0.2201 - accuracy: 0.9197 - val_loss: 0.3536 - val_accuracy: 0.8476\n",
            "Epoch 12/100\n",
            "1333/1333 [==============================] - 3s 2ms/step - loss: 0.2263 - accuracy: 0.9182 - val_loss: 0.2399 - val_accuracy: 0.9159\n",
            "Epoch 13/100\n",
            "1333/1333 [==============================] - 2s 2ms/step - loss: 0.2110 - accuracy: 0.9235 - val_loss: 0.2322 - val_accuracy: 0.9299\n",
            "Epoch 14/100\n",
            "1333/1333 [==============================] - 3s 2ms/step - loss: 0.2119 - accuracy: 0.9265 - val_loss: 0.2101 - val_accuracy: 0.9335\n",
            "Epoch 15/100\n",
            "1333/1333 [==============================] - 3s 2ms/step - loss: 0.1924 - accuracy: 0.9265 - val_loss: 0.1855 - val_accuracy: 0.9370\n",
            "Epoch 16/100\n",
            "1333/1333 [==============================] - 3s 2ms/step - loss: 0.1696 - accuracy: 0.9340 - val_loss: 0.1935 - val_accuracy: 0.9370\n",
            "Epoch 17/100\n",
            "1333/1333 [==============================] - 2s 2ms/step - loss: 0.1706 - accuracy: 0.9407 - val_loss: 0.1760 - val_accuracy: 0.9405\n",
            "Epoch 18/100\n",
            "1333/1333 [==============================] - 5s 4ms/step - loss: 0.1605 - accuracy: 0.9430 - val_loss: 0.2125 - val_accuracy: 0.9282\n",
            "Epoch 19/100\n",
            "1333/1333 [==============================] - 2s 2ms/step - loss: 0.1513 - accuracy: 0.9437 - val_loss: 0.1925 - val_accuracy: 0.9370\n",
            "Epoch 20/100\n",
            "1333/1333 [==============================] - 2s 2ms/step - loss: 0.1509 - accuracy: 0.9445 - val_loss: 0.1471 - val_accuracy: 0.9510\n",
            "Epoch 21/100\n",
            "1333/1333 [==============================] - 3s 2ms/step - loss: 0.1437 - accuracy: 0.9422 - val_loss: 0.1316 - val_accuracy: 0.9597\n",
            "Epoch 22/100\n",
            "1333/1333 [==============================] - 2s 2ms/step - loss: 0.1391 - accuracy: 0.9467 - val_loss: 0.1484 - val_accuracy: 0.9527\n",
            "Epoch 23/100\n",
            "1333/1333 [==============================] - 2s 2ms/step - loss: 0.1295 - accuracy: 0.9542 - val_loss: 0.1442 - val_accuracy: 0.9580\n",
            "Epoch 24/100\n",
            "1333/1333 [==============================] - 2s 2ms/step - loss: 0.1278 - accuracy: 0.9550 - val_loss: 0.2446 - val_accuracy: 0.8897\n",
            "Epoch 25/100\n",
            "1333/1333 [==============================] - 5s 4ms/step - loss: 0.1204 - accuracy: 0.9550 - val_loss: 0.1099 - val_accuracy: 0.9667\n",
            "Epoch 26/100\n",
            "1333/1333 [==============================] - 6s 5ms/step - loss: 0.1197 - accuracy: 0.9580 - val_loss: 0.1161 - val_accuracy: 0.9685\n",
            "Epoch 27/100\n",
            "1333/1333 [==============================] - 7s 5ms/step - loss: 0.1169 - accuracy: 0.9572 - val_loss: 0.1146 - val_accuracy: 0.9650\n",
            "Epoch 28/100\n",
            "1333/1333 [==============================] - 3s 3ms/step - loss: 0.1317 - accuracy: 0.9475 - val_loss: 0.1148 - val_accuracy: 0.9702\n",
            "Epoch 29/100\n",
            "1333/1333 [==============================] - 2s 2ms/step - loss: 0.1149 - accuracy: 0.9610 - val_loss: 0.1188 - val_accuracy: 0.9632\n",
            "Epoch 30/100\n",
            "1333/1333 [==============================] - 2s 2ms/step - loss: 0.1107 - accuracy: 0.9565 - val_loss: 0.1036 - val_accuracy: 0.9667\n",
            "Epoch 31/100\n",
            "1333/1333 [==============================] - 2s 2ms/step - loss: 0.1137 - accuracy: 0.9595 - val_loss: 0.1180 - val_accuracy: 0.9667\n",
            "Epoch 32/100\n",
            "1333/1333 [==============================] - 2s 2ms/step - loss: 0.1178 - accuracy: 0.9550 - val_loss: 0.1172 - val_accuracy: 0.9562\n",
            "Epoch 33/100\n",
            "1333/1333 [==============================] - 2s 2ms/step - loss: 0.1151 - accuracy: 0.9610 - val_loss: 0.0995 - val_accuracy: 0.9650\n",
            "Epoch 34/100\n",
            "1333/1333 [==============================] - 3s 2ms/step - loss: 0.1135 - accuracy: 0.9587 - val_loss: 0.1405 - val_accuracy: 0.9580\n",
            "Epoch 35/100\n",
            "1333/1333 [==============================] - 2s 2ms/step - loss: 0.1140 - accuracy: 0.9565 - val_loss: 0.1443 - val_accuracy: 0.9405\n",
            "Epoch 36/100\n",
            "1333/1333 [==============================] - 2s 2ms/step - loss: 0.1079 - accuracy: 0.9625 - val_loss: 0.0953 - val_accuracy: 0.9667\n",
            "Epoch 37/100\n",
            "1333/1333 [==============================] - 2s 2ms/step - loss: 0.1032 - accuracy: 0.9602 - val_loss: 0.0879 - val_accuracy: 0.9737\n",
            "Epoch 38/100\n",
            "1333/1333 [==============================] - 2s 2ms/step - loss: 0.1076 - accuracy: 0.9640 - val_loss: 0.1119 - val_accuracy: 0.9632\n",
            "Epoch 39/100\n",
            "1333/1333 [==============================] - 2s 2ms/step - loss: 0.0985 - accuracy: 0.9647 - val_loss: 0.1665 - val_accuracy: 0.9299\n",
            "Epoch 40/100\n",
            "1333/1333 [==============================] - 2s 2ms/step - loss: 0.0950 - accuracy: 0.9670 - val_loss: 0.0991 - val_accuracy: 0.9650\n",
            "Epoch 41/100\n",
            "1333/1333 [==============================] - 2s 2ms/step - loss: 0.0953 - accuracy: 0.9640 - val_loss: 0.0871 - val_accuracy: 0.9737\n",
            "Epoch 42/100\n",
            "1333/1333 [==============================] - 2s 2ms/step - loss: 0.1067 - accuracy: 0.9595 - val_loss: 0.0972 - val_accuracy: 0.9667\n",
            "Epoch 43/100\n",
            "1333/1333 [==============================] - 3s 2ms/step - loss: 0.0887 - accuracy: 0.9685 - val_loss: 0.1328 - val_accuracy: 0.9632\n",
            "Epoch 44/100\n",
            "1333/1333 [==============================] - 2s 2ms/step - loss: 0.0889 - accuracy: 0.9647 - val_loss: 0.1390 - val_accuracy: 0.9475\n",
            "Epoch 45/100\n",
            "1333/1333 [==============================] - 2s 2ms/step - loss: 0.0965 - accuracy: 0.9625 - val_loss: 0.1905 - val_accuracy: 0.9370\n",
            "Epoch 46/100\n",
            "1333/1333 [==============================] - 2s 2ms/step - loss: 0.0955 - accuracy: 0.9655 - val_loss: 0.1160 - val_accuracy: 0.9685\n",
            "Epoch 47/100\n",
            "1333/1333 [==============================] - 2s 2ms/step - loss: 0.0935 - accuracy: 0.9662 - val_loss: 0.1069 - val_accuracy: 0.9632\n",
            "Epoch 48/100\n",
            "1333/1333 [==============================] - 2s 2ms/step - loss: 0.0879 - accuracy: 0.9655 - val_loss: 0.1016 - val_accuracy: 0.9755\n",
            "Epoch 49/100\n",
            "1333/1333 [==============================] - 2s 2ms/step - loss: 0.0893 - accuracy: 0.9677 - val_loss: 0.1494 - val_accuracy: 0.9475\n",
            "Epoch 50/100\n",
            "1333/1333 [==============================] - 3s 2ms/step - loss: 0.0865 - accuracy: 0.9692 - val_loss: 0.0904 - val_accuracy: 0.9702\n",
            "Epoch 51/100\n",
            "1333/1333 [==============================] - 3s 2ms/step - loss: 0.0980 - accuracy: 0.9655 - val_loss: 0.1613 - val_accuracy: 0.9405\n",
            "Epoch 52/100\n",
            "1333/1333 [==============================] - 2s 2ms/step - loss: 0.0881 - accuracy: 0.9602 - val_loss: 0.0971 - val_accuracy: 0.9667\n",
            "Epoch 53/100\n",
            "1333/1333 [==============================] - 2s 2ms/step - loss: 0.0947 - accuracy: 0.9662 - val_loss: 0.1078 - val_accuracy: 0.9667\n",
            "Epoch 54/100\n",
            "1333/1333 [==============================] - 2s 2ms/step - loss: 0.0881 - accuracy: 0.9640 - val_loss: 0.1113 - val_accuracy: 0.9702\n",
            "Epoch 55/100\n",
            "1333/1333 [==============================] - 2s 2ms/step - loss: 0.0868 - accuracy: 0.9647 - val_loss: 0.0955 - val_accuracy: 0.9685\n",
            "Epoch 56/100\n",
            "1333/1333 [==============================] - 3s 3ms/step - loss: 0.0806 - accuracy: 0.9745 - val_loss: 0.1100 - val_accuracy: 0.9737\n",
            "Epoch 57/100\n",
            "1333/1333 [==============================] - 2s 2ms/step - loss: 0.0971 - accuracy: 0.9632 - val_loss: 0.0866 - val_accuracy: 0.9755\n",
            "Epoch 58/100\n",
            "1333/1333 [==============================] - 3s 2ms/step - loss: 0.0825 - accuracy: 0.9722 - val_loss: 0.0842 - val_accuracy: 0.9737\n",
            "Epoch 59/100\n",
            "1333/1333 [==============================] - 3s 2ms/step - loss: 0.0901 - accuracy: 0.9662 - val_loss: 0.1060 - val_accuracy: 0.9667\n",
            "Epoch 60/100\n",
            "1333/1333 [==============================] - 4s 3ms/step - loss: 0.0858 - accuracy: 0.9692 - val_loss: 0.0833 - val_accuracy: 0.9737\n",
            "Epoch 61/100\n",
            "1333/1333 [==============================] - 3s 2ms/step - loss: 0.0881 - accuracy: 0.9647 - val_loss: 0.1032 - val_accuracy: 0.9615\n",
            "Epoch 62/100\n",
            "1333/1333 [==============================] - 3s 2ms/step - loss: 0.0751 - accuracy: 0.9707 - val_loss: 0.1064 - val_accuracy: 0.9615\n",
            "Epoch 63/100\n",
            "1333/1333 [==============================] - 2s 2ms/step - loss: 0.0781 - accuracy: 0.9670 - val_loss: 0.0967 - val_accuracy: 0.9685\n",
            "Epoch 64/100\n",
            "1333/1333 [==============================] - 2s 2ms/step - loss: 0.0893 - accuracy: 0.9662 - val_loss: 0.0910 - val_accuracy: 0.9720\n",
            "Epoch 65/100\n",
            "1333/1333 [==============================] - 2s 2ms/step - loss: 0.1050 - accuracy: 0.9655 - val_loss: 0.1080 - val_accuracy: 0.9772\n",
            "Epoch 66/100\n",
            "1333/1333 [==============================] - 2s 2ms/step - loss: 0.0809 - accuracy: 0.9692 - val_loss: 0.1139 - val_accuracy: 0.9720\n",
            "Epoch 67/100\n",
            "1333/1333 [==============================] - 2s 2ms/step - loss: 0.0739 - accuracy: 0.9677 - val_loss: 0.1259 - val_accuracy: 0.9720\n",
            "Epoch 68/100\n",
            "1333/1333 [==============================] - 2s 2ms/step - loss: 0.0826 - accuracy: 0.9662 - val_loss: 0.0803 - val_accuracy: 0.9755\n",
            "Epoch 69/100\n",
            "1333/1333 [==============================] - 2s 2ms/step - loss: 0.0769 - accuracy: 0.9752 - val_loss: 0.0877 - val_accuracy: 0.9772\n",
            "Epoch 70/100\n",
            "1333/1333 [==============================] - 2s 2ms/step - loss: 0.0751 - accuracy: 0.9760 - val_loss: 0.1186 - val_accuracy: 0.9685\n",
            "Epoch 71/100\n",
            "1333/1333 [==============================] - 2s 2ms/step - loss: 0.0860 - accuracy: 0.9715 - val_loss: 0.0940 - val_accuracy: 0.9737\n",
            "Epoch 72/100\n",
            "1333/1333 [==============================] - 2s 2ms/step - loss: 0.0775 - accuracy: 0.9685 - val_loss: 0.0783 - val_accuracy: 0.9755\n",
            "Epoch 73/100\n",
            "1333/1333 [==============================] - 2s 2ms/step - loss: 0.0767 - accuracy: 0.9685 - val_loss: 0.0914 - val_accuracy: 0.9755\n",
            "Epoch 74/100\n",
            "1333/1333 [==============================] - 2s 2ms/step - loss: 0.0821 - accuracy: 0.9715 - val_loss: 0.0768 - val_accuracy: 0.9790\n",
            "Epoch 75/100\n",
            "1333/1333 [==============================] - 2s 2ms/step - loss: 0.0883 - accuracy: 0.9737 - val_loss: 0.0990 - val_accuracy: 0.9720\n",
            "Epoch 76/100\n",
            "1333/1333 [==============================] - 2s 2ms/step - loss: 0.0710 - accuracy: 0.9692 - val_loss: 0.1114 - val_accuracy: 0.9545\n",
            "Epoch 77/100\n",
            "1333/1333 [==============================] - 2s 2ms/step - loss: 0.0818 - accuracy: 0.9700 - val_loss: 0.0733 - val_accuracy: 0.9755\n",
            "Epoch 78/100\n",
            "1333/1333 [==============================] - 3s 3ms/step - loss: 0.0666 - accuracy: 0.9767 - val_loss: 0.0775 - val_accuracy: 0.9790\n",
            "Epoch 79/100\n",
            "1333/1333 [==============================] - 2s 2ms/step - loss: 0.0884 - accuracy: 0.9685 - val_loss: 0.1339 - val_accuracy: 0.9475\n",
            "Epoch 80/100\n",
            "1333/1333 [==============================] - 2s 2ms/step - loss: 0.0791 - accuracy: 0.9692 - val_loss: 0.0834 - val_accuracy: 0.9720\n",
            "Epoch 81/100\n",
            "1333/1333 [==============================] - 2s 2ms/step - loss: 0.0767 - accuracy: 0.9745 - val_loss: 0.1550 - val_accuracy: 0.9527\n",
            "Epoch 82/100\n",
            "1333/1333 [==============================] - 2s 2ms/step - loss: 0.0693 - accuracy: 0.9737 - val_loss: 0.0877 - val_accuracy: 0.9720\n",
            "Epoch 83/100\n",
            "1333/1333 [==============================] - 2s 2ms/step - loss: 0.0754 - accuracy: 0.9685 - val_loss: 0.0811 - val_accuracy: 0.9772\n",
            "Epoch 84/100\n",
            "1333/1333 [==============================] - 2s 2ms/step - loss: 0.0715 - accuracy: 0.9707 - val_loss: 0.0952 - val_accuracy: 0.9702\n",
            "Epoch 85/100\n",
            "1333/1333 [==============================] - 2s 2ms/step - loss: 0.0745 - accuracy: 0.9730 - val_loss: 0.0931 - val_accuracy: 0.9755\n",
            "Epoch 86/100\n",
            "1333/1333 [==============================] - 2s 2ms/step - loss: 0.0816 - accuracy: 0.9730 - val_loss: 0.0944 - val_accuracy: 0.9737\n",
            "Epoch 87/100\n",
            "1333/1333 [==============================] - 2s 2ms/step - loss: 0.0653 - accuracy: 0.9752 - val_loss: 0.0741 - val_accuracy: 0.9790\n",
            "Epoch 88/100\n",
            "1333/1333 [==============================] - 2s 2ms/step - loss: 0.0763 - accuracy: 0.9707 - val_loss: 0.2427 - val_accuracy: 0.9107\n",
            "Epoch 89/100\n",
            "1333/1333 [==============================] - 2s 2ms/step - loss: 0.0797 - accuracy: 0.9655 - val_loss: 0.0800 - val_accuracy: 0.9772\n",
            "Epoch 90/100\n",
            "1333/1333 [==============================] - 2s 2ms/step - loss: 0.0666 - accuracy: 0.9722 - val_loss: 0.1152 - val_accuracy: 0.9720\n",
            "Epoch 91/100\n",
            "1333/1333 [==============================] - 2s 2ms/step - loss: 0.0777 - accuracy: 0.9685 - val_loss: 0.0908 - val_accuracy: 0.9737\n",
            "Epoch 92/100\n",
            "1333/1333 [==============================] - 2s 2ms/step - loss: 0.0740 - accuracy: 0.9730 - val_loss: 0.0931 - val_accuracy: 0.9737\n",
            "Epoch 93/100\n",
            "1333/1333 [==============================] - 2s 2ms/step - loss: 0.0924 - accuracy: 0.9730 - val_loss: 0.0998 - val_accuracy: 0.9737\n",
            "Epoch 94/100\n",
            "1333/1333 [==============================] - 2s 2ms/step - loss: 0.0705 - accuracy: 0.9745 - val_loss: 0.1195 - val_accuracy: 0.9702\n",
            "Epoch 95/100\n",
            "1333/1333 [==============================] - 3s 3ms/step - loss: 0.0716 - accuracy: 0.9737 - val_loss: 0.0903 - val_accuracy: 0.9720\n",
            "Epoch 96/100\n",
            "1333/1333 [==============================] - 2s 2ms/step - loss: 0.0680 - accuracy: 0.9760 - val_loss: 0.1082 - val_accuracy: 0.9720\n",
            "Epoch 97/100\n",
            "1333/1333 [==============================] - 2s 2ms/step - loss: 0.0671 - accuracy: 0.9722 - val_loss: 0.0858 - val_accuracy: 0.9772\n",
            "Epoch 98/100\n",
            "1333/1333 [==============================] - 2s 2ms/step - loss: 0.0706 - accuracy: 0.9760 - val_loss: 0.1286 - val_accuracy: 0.9562\n",
            "Epoch 99/100\n",
            "1333/1333 [==============================] - 2s 2ms/step - loss: 0.0767 - accuracy: 0.9662 - val_loss: 0.1096 - val_accuracy: 0.9755\n",
            "Epoch 100/100\n",
            "1333/1333 [==============================] - 2s 2ms/step - loss: 0.0644 - accuracy: 0.9745 - val_loss: 0.1478 - val_accuracy: 0.9597\n"
          ]
        }
      ],
      "source": [
        "model = get_compiled_model()\n",
        "history = model.fit(train_dataset, epochs=100,validation_data=(x_test, y_test))"
      ]
    },
    {
      "cell_type": "code",
      "source": [
        "from tensorflow.keras.utils import plot_model\n",
        "plot_model(model,'new_model.png',show_shapes=True)"
      ],
      "metadata": {
        "colab": {
          "base_uri": "https://localhost:8080/",
          "height": 422
        },
        "id": "bVbd-uvGLbr2",
        "outputId": "a8ba567f-acf5-4c1b-cfb6-15c57350cd79"
      },
      "execution_count": null,
      "outputs": [
        {
          "output_type": "execute_result",
          "data": {
            "image/png": "[encoded data removed]",
            "text/plain": [
              "<IPython.core.display.Image object>"
            ]
          },
          "metadata": {},
          "execution_count": 16
        }
      ]
    },
    {
      "cell_type": "code",
      "source": [
        "model12 = get_compiled_model12()\n",
        "history12 = model12.fit(train_dataset, epochs=100,validation_data=(x_test, y_test))"
      ],
      "metadata": {
        "colab": {
          "base_uri": "https://localhost:8080/"
        },
        "id": "_apwOkrFwEY0",
        "outputId": "8be0d043-9862-4157-e56a-89d1b8619d1b"
      },
      "execution_count": null,
      "outputs": [
        {
          "output_type": "stream",
          "name": "stdout",
          "text": [
            "Epoch 1/100\n",
            "1333/1333 [==============================] - 3s 2ms/step - loss: 0.4080 - accuracy: 0.8957 - val_loss: 0.2935 - val_accuracy: 0.9072\n",
            "Epoch 2/100\n",
            "1333/1333 [==============================] - 2s 2ms/step - loss: 0.2917 - accuracy: 0.9092 - val_loss: 0.2954 - val_accuracy: 0.9072\n",
            "Epoch 3/100\n",
            "1333/1333 [==============================] - 2s 2ms/step - loss: 0.2640 - accuracy: 0.9115 - val_loss: 0.2706 - val_accuracy: 0.9089\n",
            "Epoch 4/100\n",
            "1333/1333 [==============================] - 2s 2ms/step - loss: 0.2425 - accuracy: 0.9137 - val_loss: 0.2558 - val_accuracy: 0.9142\n",
            "Epoch 5/100\n",
            "1333/1333 [==============================] - 2s 2ms/step - loss: 0.2399 - accuracy: 0.9145 - val_loss: 0.2189 - val_accuracy: 0.9194\n",
            "Epoch 6/100\n",
            "1333/1333 [==============================] - 2s 2ms/step - loss: 0.2213 - accuracy: 0.9197 - val_loss: 0.2064 - val_accuracy: 0.9229\n",
            "Epoch 7/100\n",
            "1333/1333 [==============================] - 2s 2ms/step - loss: 0.2055 - accuracy: 0.9175 - val_loss: 0.2427 - val_accuracy: 0.9177\n",
            "Epoch 8/100\n",
            "1333/1333 [==============================] - 2s 2ms/step - loss: 0.1985 - accuracy: 0.9287 - val_loss: 0.1953 - val_accuracy: 0.9457\n",
            "Epoch 9/100\n",
            "1333/1333 [==============================] - 2s 2ms/step - loss: 0.1925 - accuracy: 0.9287 - val_loss: 0.1826 - val_accuracy: 0.9457\n",
            "Epoch 10/100\n",
            "1333/1333 [==============================] - 2s 2ms/step - loss: 0.1725 - accuracy: 0.9347 - val_loss: 0.1698 - val_accuracy: 0.9387\n",
            "Epoch 11/100\n",
            "1333/1333 [==============================] - 2s 2ms/step - loss: 0.1710 - accuracy: 0.9415 - val_loss: 0.1778 - val_accuracy: 0.9510\n",
            "Epoch 12/100\n",
            "1333/1333 [==============================] - 2s 2ms/step - loss: 0.1630 - accuracy: 0.9370 - val_loss: 0.1539 - val_accuracy: 0.9475\n",
            "Epoch 13/100\n",
            "1333/1333 [==============================] - 2s 2ms/step - loss: 0.1522 - accuracy: 0.9392 - val_loss: 0.1455 - val_accuracy: 0.9510\n",
            "Epoch 14/100\n",
            "1333/1333 [==============================] - 2s 2ms/step - loss: 0.1768 - accuracy: 0.9430 - val_loss: 0.1575 - val_accuracy: 0.9597\n",
            "Epoch 15/100\n",
            "1333/1333 [==============================] - 2s 2ms/step - loss: 0.1430 - accuracy: 0.9460 - val_loss: 0.1301 - val_accuracy: 0.9650\n",
            "Epoch 16/100\n",
            "1333/1333 [==============================] - 2s 2ms/step - loss: 0.1311 - accuracy: 0.9475 - val_loss: 0.1629 - val_accuracy: 0.9440\n",
            "Epoch 17/100\n",
            "1333/1333 [==============================] - 2s 2ms/step - loss: 0.1389 - accuracy: 0.9460 - val_loss: 0.1340 - val_accuracy: 0.9527\n",
            "Epoch 18/100\n",
            "1333/1333 [==============================] - 2s 2ms/step - loss: 0.1391 - accuracy: 0.9497 - val_loss: 0.2139 - val_accuracy: 0.9124\n",
            "Epoch 19/100\n",
            "1333/1333 [==============================] - 2s 2ms/step - loss: 0.1207 - accuracy: 0.9527 - val_loss: 0.1349 - val_accuracy: 0.9475\n",
            "Epoch 20/100\n",
            "1333/1333 [==============================] - 2s 2ms/step - loss: 0.1191 - accuracy: 0.9535 - val_loss: 0.1263 - val_accuracy: 0.9597\n",
            "Epoch 21/100\n",
            "1333/1333 [==============================] - 2s 2ms/step - loss: 0.1281 - accuracy: 0.9497 - val_loss: 0.1161 - val_accuracy: 0.9650\n",
            "Epoch 22/100\n",
            "1333/1333 [==============================] - 2s 2ms/step - loss: 0.1146 - accuracy: 0.9565 - val_loss: 0.1118 - val_accuracy: 0.9632\n",
            "Epoch 23/100\n",
            "1333/1333 [==============================] - 2s 2ms/step - loss: 0.1120 - accuracy: 0.9580 - val_loss: 0.1071 - val_accuracy: 0.9702\n",
            "Epoch 24/100\n",
            "1333/1333 [==============================] - 2s 2ms/step - loss: 0.1127 - accuracy: 0.9580 - val_loss: 0.1222 - val_accuracy: 0.9562\n",
            "Epoch 25/100\n",
            "1333/1333 [==============================] - 2s 2ms/step - loss: 0.1113 - accuracy: 0.9580 - val_loss: 0.0974 - val_accuracy: 0.9667\n",
            "Epoch 26/100\n",
            "1333/1333 [==============================] - 2s 2ms/step - loss: 0.1166 - accuracy: 0.9535 - val_loss: 0.0993 - val_accuracy: 0.9667\n",
            "Epoch 27/100\n",
            "1333/1333 [==============================] - 2s 2ms/step - loss: 0.0893 - accuracy: 0.9692 - val_loss: 0.1023 - val_accuracy: 0.9632\n",
            "Epoch 28/100\n",
            "1333/1333 [==============================] - 5s 4ms/step - loss: 0.1024 - accuracy: 0.9640 - val_loss: 0.0936 - val_accuracy: 0.9667\n",
            "Epoch 29/100\n",
            "1333/1333 [==============================] - 3s 2ms/step - loss: 0.1133 - accuracy: 0.9587 - val_loss: 0.1164 - val_accuracy: 0.9562\n",
            "Epoch 30/100\n",
            "1333/1333 [==============================] - 2s 2ms/step - loss: 0.1008 - accuracy: 0.9587 - val_loss: 0.1130 - val_accuracy: 0.9650\n",
            "Epoch 31/100\n",
            "1333/1333 [==============================] - 2s 2ms/step - loss: 0.1023 - accuracy: 0.9632 - val_loss: 0.1242 - val_accuracy: 0.9475\n",
            "Epoch 32/100\n",
            "1333/1333 [==============================] - 2s 2ms/step - loss: 0.0948 - accuracy: 0.9670 - val_loss: 0.1124 - val_accuracy: 0.9650\n",
            "Epoch 33/100\n",
            "1333/1333 [==============================] - 2s 2ms/step - loss: 0.0993 - accuracy: 0.9602 - val_loss: 0.1868 - val_accuracy: 0.9212\n",
            "Epoch 34/100\n",
            "1333/1333 [==============================] - 2s 2ms/step - loss: 0.0928 - accuracy: 0.9662 - val_loss: 0.1105 - val_accuracy: 0.9650\n",
            "Epoch 35/100\n",
            "1333/1333 [==============================] - 2s 2ms/step - loss: 0.0939 - accuracy: 0.9655 - val_loss: 0.0997 - val_accuracy: 0.9615\n",
            "Epoch 36/100\n",
            "1333/1333 [==============================] - 2s 2ms/step - loss: 0.0936 - accuracy: 0.9692 - val_loss: 0.0867 - val_accuracy: 0.9667\n",
            "Epoch 37/100\n",
            "1333/1333 [==============================] - 2s 2ms/step - loss: 0.1005 - accuracy: 0.9610 - val_loss: 0.0953 - val_accuracy: 0.9597\n",
            "Epoch 38/100\n",
            "1333/1333 [==============================] - 2s 2ms/step - loss: 0.1036 - accuracy: 0.9617 - val_loss: 0.0915 - val_accuracy: 0.9685\n",
            "Epoch 39/100\n",
            "1333/1333 [==============================] - 2s 2ms/step - loss: 0.0875 - accuracy: 0.9655 - val_loss: 0.1063 - val_accuracy: 0.9632\n",
            "Epoch 40/100\n",
            "1333/1333 [==============================] - 2s 2ms/step - loss: 0.0916 - accuracy: 0.9595 - val_loss: 0.1668 - val_accuracy: 0.9422\n",
            "Epoch 41/100\n",
            "1333/1333 [==============================] - 2s 2ms/step - loss: 0.1077 - accuracy: 0.9640 - val_loss: 0.0999 - val_accuracy: 0.9615\n",
            "Epoch 42/100\n",
            "1333/1333 [==============================] - 2s 2ms/step - loss: 0.0878 - accuracy: 0.9677 - val_loss: 0.0978 - val_accuracy: 0.9667\n",
            "Epoch 43/100\n",
            "1333/1333 [==============================] - 2s 2ms/step - loss: 0.0849 - accuracy: 0.9692 - val_loss: 0.1386 - val_accuracy: 0.9615\n",
            "Epoch 44/100\n",
            "1333/1333 [==============================] - 2s 2ms/step - loss: 0.0884 - accuracy: 0.9677 - val_loss: 0.0968 - val_accuracy: 0.9632\n",
            "Epoch 45/100\n",
            "1333/1333 [==============================] - 2s 2ms/step - loss: 0.0880 - accuracy: 0.9677 - val_loss: 0.1109 - val_accuracy: 0.9615\n",
            "Epoch 46/100\n",
            "1333/1333 [==============================] - 2s 2ms/step - loss: 0.0916 - accuracy: 0.9677 - val_loss: 0.1502 - val_accuracy: 0.9405\n",
            "Epoch 47/100\n",
            "1333/1333 [==============================] - 3s 2ms/step - loss: 0.0951 - accuracy: 0.9677 - val_loss: 0.1046 - val_accuracy: 0.9580\n",
            "Epoch 48/100\n",
            "1333/1333 [==============================] - 2s 2ms/step - loss: 0.0961 - accuracy: 0.9632 - val_loss: 0.1237 - val_accuracy: 0.9562\n",
            "Epoch 49/100\n",
            "1333/1333 [==============================] - 2s 2ms/step - loss: 0.1045 - accuracy: 0.9655 - val_loss: 0.0984 - val_accuracy: 0.9737\n",
            "Epoch 50/100\n",
            "1333/1333 [==============================] - 2s 2ms/step - loss: 0.0850 - accuracy: 0.9617 - val_loss: 0.1012 - val_accuracy: 0.9650\n",
            "Epoch 51/100\n",
            "1333/1333 [==============================] - 2s 2ms/step - loss: 0.0860 - accuracy: 0.9715 - val_loss: 0.1156 - val_accuracy: 0.9580\n",
            "Epoch 52/100\n",
            "1333/1333 [==============================] - 2s 2ms/step - loss: 0.0860 - accuracy: 0.9685 - val_loss: 0.1122 - val_accuracy: 0.9527\n",
            "Epoch 53/100\n",
            "1333/1333 [==============================] - 2s 2ms/step - loss: 0.0859 - accuracy: 0.9670 - val_loss: 0.1099 - val_accuracy: 0.9685\n",
            "Epoch 54/100\n",
            "1333/1333 [==============================] - 2s 2ms/step - loss: 0.0842 - accuracy: 0.9685 - val_loss: 0.1161 - val_accuracy: 0.9632\n",
            "Epoch 55/100\n",
            "1333/1333 [==============================] - 2s 2ms/step - loss: 0.0979 - accuracy: 0.9580 - val_loss: 0.0939 - val_accuracy: 0.9615\n",
            "Epoch 56/100\n",
            "1333/1333 [==============================] - 2s 2ms/step - loss: 0.0910 - accuracy: 0.9647 - val_loss: 0.1059 - val_accuracy: 0.9685\n",
            "Epoch 57/100\n",
            "1333/1333 [==============================] - 2s 2ms/step - loss: 0.0826 - accuracy: 0.9692 - val_loss: 0.1187 - val_accuracy: 0.9580\n",
            "Epoch 58/100\n",
            "1333/1333 [==============================] - 2s 2ms/step - loss: 0.0900 - accuracy: 0.9677 - val_loss: 0.0962 - val_accuracy: 0.9720\n",
            "Epoch 59/100\n",
            "1333/1333 [==============================] - 2s 2ms/step - loss: 0.0772 - accuracy: 0.9707 - val_loss: 0.1086 - val_accuracy: 0.9562\n",
            "Epoch 60/100\n",
            "1333/1333 [==============================] - 2s 2ms/step - loss: 0.0818 - accuracy: 0.9677 - val_loss: 0.0841 - val_accuracy: 0.9685\n",
            "Epoch 61/100\n",
            "1333/1333 [==============================] - 2s 2ms/step - loss: 0.0884 - accuracy: 0.9685 - val_loss: 0.1198 - val_accuracy: 0.9580\n",
            "Epoch 62/100\n",
            "1333/1333 [==============================] - 2s 2ms/step - loss: 0.0767 - accuracy: 0.9722 - val_loss: 0.0968 - val_accuracy: 0.9667\n",
            "Epoch 63/100\n",
            "1333/1333 [==============================] - 2s 2ms/step - loss: 0.0824 - accuracy: 0.9715 - val_loss: 0.1139 - val_accuracy: 0.9597\n",
            "Epoch 64/100\n",
            "1333/1333 [==============================] - 2s 2ms/step - loss: 0.0794 - accuracy: 0.9692 - val_loss: 0.0823 - val_accuracy: 0.9790\n",
            "Epoch 65/100\n",
            "1333/1333 [==============================] - 2s 2ms/step - loss: 0.0832 - accuracy: 0.9685 - val_loss: 0.0916 - val_accuracy: 0.9597\n",
            "Epoch 66/100\n",
            "1333/1333 [==============================] - 2s 2ms/step - loss: 0.0827 - accuracy: 0.9632 - val_loss: 0.0907 - val_accuracy: 0.9685\n",
            "Epoch 67/100\n",
            "1333/1333 [==============================] - 2s 2ms/step - loss: 0.0750 - accuracy: 0.9722 - val_loss: 0.0942 - val_accuracy: 0.9597\n",
            "Epoch 68/100\n",
            "1333/1333 [==============================] - 2s 2ms/step - loss: 0.0735 - accuracy: 0.9707 - val_loss: 0.0973 - val_accuracy: 0.9737\n",
            "Epoch 69/100\n",
            "1333/1333 [==============================] - 2s 2ms/step - loss: 0.0853 - accuracy: 0.9692 - val_loss: 0.1152 - val_accuracy: 0.9702\n",
            "Epoch 70/100\n",
            "1333/1333 [==============================] - 2s 2ms/step - loss: 0.0785 - accuracy: 0.9662 - val_loss: 0.0934 - val_accuracy: 0.9667\n",
            "Epoch 71/100\n",
            "1333/1333 [==============================] - 2s 2ms/step - loss: 0.0760 - accuracy: 0.9707 - val_loss: 0.0888 - val_accuracy: 0.9702\n",
            "Epoch 72/100\n",
            "1333/1333 [==============================] - 2s 2ms/step - loss: 0.0767 - accuracy: 0.9707 - val_loss: 0.0944 - val_accuracy: 0.9702\n",
            "Epoch 73/100\n",
            "1333/1333 [==============================] - 2s 2ms/step - loss: 0.0827 - accuracy: 0.9715 - val_loss: 0.1114 - val_accuracy: 0.9562\n",
            "Epoch 74/100\n",
            "1333/1333 [==============================] - 2s 2ms/step - loss: 0.0760 - accuracy: 0.9722 - val_loss: 0.0998 - val_accuracy: 0.9685\n",
            "Epoch 75/100\n",
            "1333/1333 [==============================] - 2s 2ms/step - loss: 0.0914 - accuracy: 0.9625 - val_loss: 0.0908 - val_accuracy: 0.9667\n",
            "Epoch 76/100\n",
            "1333/1333 [==============================] - 2s 2ms/step - loss: 0.0792 - accuracy: 0.9730 - val_loss: 0.1202 - val_accuracy: 0.9685\n",
            "Epoch 77/100\n",
            "1333/1333 [==============================] - 2s 2ms/step - loss: 0.0715 - accuracy: 0.9745 - val_loss: 0.0983 - val_accuracy: 0.9667\n",
            "Epoch 78/100\n",
            "1333/1333 [==============================] - 2s 2ms/step - loss: 0.0734 - accuracy: 0.9722 - val_loss: 0.1017 - val_accuracy: 0.9720\n",
            "Epoch 79/100\n",
            "1333/1333 [==============================] - 2s 2ms/step - loss: 0.0771 - accuracy: 0.9737 - val_loss: 0.0991 - val_accuracy: 0.9720\n",
            "Epoch 80/100\n",
            "1333/1333 [==============================] - 2s 2ms/step - loss: 0.0850 - accuracy: 0.9692 - val_loss: 0.0958 - val_accuracy: 0.9580\n",
            "Epoch 81/100\n",
            "1333/1333 [==============================] - 2s 2ms/step - loss: 0.0758 - accuracy: 0.9692 - val_loss: 0.1091 - val_accuracy: 0.9580\n",
            "Epoch 82/100\n",
            "1333/1333 [==============================] - 2s 2ms/step - loss: 0.0680 - accuracy: 0.9730 - val_loss: 0.0838 - val_accuracy: 0.9755\n",
            "Epoch 83/100\n",
            "1333/1333 [==============================] - 2s 2ms/step - loss: 0.0741 - accuracy: 0.9737 - val_loss: 0.1224 - val_accuracy: 0.9597\n",
            "Epoch 84/100\n",
            "1333/1333 [==============================] - 2s 2ms/step - loss: 0.0723 - accuracy: 0.9722 - val_loss: 0.1024 - val_accuracy: 0.9702\n",
            "Epoch 85/100\n",
            "1333/1333 [==============================] - 2s 2ms/step - loss: 0.0729 - accuracy: 0.9685 - val_loss: 0.1185 - val_accuracy: 0.9650\n",
            "Epoch 86/100\n",
            "1333/1333 [==============================] - 2s 2ms/step - loss: 0.0723 - accuracy: 0.9737 - val_loss: 0.1575 - val_accuracy: 0.9405\n",
            "Epoch 87/100\n",
            "1333/1333 [==============================] - 2s 2ms/step - loss: 0.0808 - accuracy: 0.9685 - val_loss: 0.1078 - val_accuracy: 0.9720\n",
            "Epoch 88/100\n",
            "1333/1333 [==============================] - 2s 2ms/step - loss: 0.0632 - accuracy: 0.9700 - val_loss: 0.1152 - val_accuracy: 0.9615\n",
            "Epoch 89/100\n",
            "1333/1333 [==============================] - 2s 2ms/step - loss: 0.0680 - accuracy: 0.9722 - val_loss: 0.0982 - val_accuracy: 0.9720\n",
            "Epoch 90/100\n",
            "1333/1333 [==============================] - 2s 2ms/step - loss: 0.0682 - accuracy: 0.9745 - val_loss: 0.1097 - val_accuracy: 0.9720\n",
            "Epoch 91/100\n",
            "1333/1333 [==============================] - 2s 2ms/step - loss: 0.0736 - accuracy: 0.9722 - val_loss: 0.1617 - val_accuracy: 0.9422\n",
            "Epoch 92/100\n",
            "1333/1333 [==============================] - 2s 2ms/step - loss: 0.0709 - accuracy: 0.9722 - val_loss: 0.2012 - val_accuracy: 0.9440\n",
            "Epoch 93/100\n",
            "1333/1333 [==============================] - 2s 2ms/step - loss: 0.0775 - accuracy: 0.9692 - val_loss: 0.0995 - val_accuracy: 0.9737\n",
            "Epoch 94/100\n",
            "1333/1333 [==============================] - 3s 2ms/step - loss: 0.0730 - accuracy: 0.9745 - val_loss: 0.1228 - val_accuracy: 0.9615\n",
            "Epoch 95/100\n",
            "1333/1333 [==============================] - 2s 2ms/step - loss: 0.0752 - accuracy: 0.9760 - val_loss: 0.0976 - val_accuracy: 0.9702\n",
            "Epoch 96/100\n",
            "1333/1333 [==============================] - 2s 2ms/step - loss: 0.0709 - accuracy: 0.9767 - val_loss: 0.0883 - val_accuracy: 0.9737\n",
            "Epoch 97/100\n",
            "1333/1333 [==============================] - 3s 2ms/step - loss: 0.0690 - accuracy: 0.9767 - val_loss: 0.0899 - val_accuracy: 0.9720\n",
            "Epoch 98/100\n",
            "1333/1333 [==============================] - 3s 2ms/step - loss: 0.0709 - accuracy: 0.9730 - val_loss: 0.0951 - val_accuracy: 0.9737\n",
            "Epoch 99/100\n",
            "1333/1333 [==============================] - 2s 2ms/step - loss: 0.0726 - accuracy: 0.9700 - val_loss: 0.1478 - val_accuracy: 0.9527\n",
            "Epoch 100/100\n",
            "1333/1333 [==============================] - 2s 2ms/step - loss: 0.0703 - accuracy: 0.9737 - val_loss: 0.1755 - val_accuracy: 0.9527\n"
          ]
        }
      ]
    },
    {
      "cell_type": "code",
      "source": [
        "# get results\n",
        "results = model.evaluate(x_test, y_test, verbose=2)\n",
        "print(results)"
      ],
      "metadata": {
        "colab": {
          "base_uri": "https://localhost:8080/"
        },
        "id": "lQmWaSOeWwg7",
        "outputId": "957147b1-7612-4c2a-a5eb-a87cefb2edbf"
      },
      "execution_count": null,
      "outputs": [
        {
          "output_type": "stream",
          "name": "stdout",
          "text": [
            "18/18 - 0s - loss: 0.0930 - accuracy: 0.9685 - 36ms/epoch - 2ms/step\n",
            "[0.09300518035888672, 0.9684763550758362]\n"
          ]
        }
      ]
    },
    {
      "cell_type": "code",
      "source": [
        "# plot results\n",
        "history_dict = history.history\n",
        "history_dict.keys()\n"
      ],
      "metadata": {
        "colab": {
          "base_uri": "https://localhost:8080/"
        },
        "id": "_5CmqjMiW78J",
        "outputId": "529a0cc3-0e70-49b5-8d1d-d37fc0205e67"
      },
      "execution_count": null,
      "outputs": [
        {
          "output_type": "execute_result",
          "data": {
            "text/plain": [
              "dict_keys(['loss', 'accuracy', 'val_loss', 'val_accuracy'])"
            ]
          },
          "metadata": {},
          "execution_count": 17
        }
      ]
    },
    {
      "cell_type": "code",
      "source": [
        "print(min(history_dict['loss']),min(history_dict['val_loss']),max(history_dict['accuracy']),max(history_dict['val_accuracy']))"
      ],
      "metadata": {
        "colab": {
          "base_uri": "https://localhost:8080/"
        },
        "id": "ze_k25t3LqRk",
        "outputId": "37b66e61-8629-4f89-e9d3-ef62ccbd7f68"
      },
      "execution_count": null,
      "outputs": [
        {
          "output_type": "stream",
          "name": "stdout",
          "text": [
            "0.06440863013267517 0.07333105802536011 0.9767441749572754 0.9789842367172241\n"
          ]
        }
      ]
    },
    {
      "cell_type": "code",
      "source": [
        "# plot results\n",
        "history_dict12 = history12.history\n",
        "history_dict12.keys()\n",
        "acc12 = history_dict12['accuracy']\n",
        "val_acc12 = history_dict12['val_accuracy']\n",
        "loss12 = history_dict12['loss']\n",
        "val_loss12 = history_dict12['val_loss']\n",
        "\n",
        "epochs = range(1, len(acc) + 1)\n",
        "\n",
        "# “bo” represents \"blue point\"\n",
        "plt.plot(epochs, loss12, 'b', label='Training loss',markersize=2)\n",
        "# b represents “blue line”\n",
        "plt.plot(epochs, val_loss12, 'r', label='Validation loss',markersize=3)\n",
        "plt.title('Training and validation loss(hidden layer=3)')\n",
        "plt.xlabel('Epochs')\n",
        "plt.ylabel('Loss')\n",
        "plt.legend()\n",
        "\n",
        "plt.show()"
      ],
      "metadata": {
        "colab": {
          "base_uri": "https://localhost:8080/",
          "height": 295
        },
        "id": "XLWDOXQczKeO",
        "outputId": "aa2d1233-f528-4d6f-99de-c77c62445803"
      },
      "execution_count": null,
      "outputs": [
        {
          "output_type": "display_data",
          "data": {
            "text/plain": [
              "<Figure size 432x288 with 1 Axes>"
            ],
            "image/png": "[encoded data removed]"
          },
          "metadata": {
            "needs_background": "light"
          }
        }
      ]
    },
    {
      "cell_type": "code",
      "source": [
        "plt.clf()   # 清除数字\n",
        "plt.plot(epochs, acc12, 'b', label='Training acc',markersize=2)\n",
        "plt.plot(epochs, val_acc12, 'r', label='Validation acc',markersize=3)\n",
        "plt.title('Training and validation accuracy(hidden layer=3)')\n",
        "plt.xlabel('Epochs')\n",
        "plt.ylabel('Accuracy')\n",
        "plt.legend()\n",
        "\n",
        "plt.show()"
      ],
      "metadata": {
        "colab": {
          "base_uri": "https://localhost:8080/",
          "height": 295
        },
        "id": "WH0nSsU7zS30",
        "outputId": "a4d99ed8-598f-4efd-e5ff-0fd141403fed"
      },
      "execution_count": null,
      "outputs": [
        {
          "output_type": "display_data",
          "data": {
            "text/plain": [
              "<Figure size 432x288 with 1 Axes>"
            ],
            "image/png": "[encoded data removed]"
          },
          "metadata": {
            "needs_background": "light"
          }
        }
      ]
    },
    {
      "cell_type": "code",
      "source": [
        "import matplotlib.pyplot as plt\n",
        "\n",
        "acc = history_dict['accuracy']\n",
        "val_acc = history_dict['val_accuracy']\n",
        "loss = history_dict['loss']\n",
        "val_loss = history_dict['val_loss']\n",
        "\n",
        "epochs = range(1, len(acc) + 1)\n",
        "\n",
        "# “bo” represents \"blue point\"\n",
        "plt.plot(epochs, loss, 'b', label='Training loss',markersize=2)\n",
        "# b represents “blue line”\n",
        "plt.plot(epochs, val_loss, 'r', label='Validation loss',markersize=3)\n",
        "plt.title('Training and validation loss')\n",
        "plt.xlabel('Epochs')\n",
        "plt.ylabel('Loss')\n",
        "plt.legend()\n",
        "\n",
        "plt.show()"
      ],
      "metadata": {
        "colab": {
          "base_uri": "https://localhost:8080/",
          "height": 295
        },
        "id": "nb2X91g0XSxH",
        "outputId": "c6c0ad74-6358-4bb9-a8b8-920b9fd4bed1"
      },
      "execution_count": null,
      "outputs": [
        {
          "output_type": "display_data",
          "data": {
            "text/plain": [
              "<Figure size 432x288 with 1 Axes>"
            ],
            "image/png": "[encoded data removed]"
          },
          "metadata": {
            "needs_background": "light"
          }
        }
      ]
    },
    {
      "cell_type": "code",
      "source": [
        "plt.clf()   # 清除数字\n",
        "plt.plot(epochs, acc, 'b', label='Training acc',markersize=2)\n",
        "plt.plot(epochs, val_acc, 'r', label='Validation acc',markersize=3)\n",
        "plt.title('Training and validation accuracy')\n",
        "plt.xlabel('Epochs')\n",
        "plt.ylabel('Accuracy')\n",
        "plt.legend()\n",
        "\n",
        "plt.show()"
      ],
      "metadata": {
        "colab": {
          "base_uri": "https://localhost:8080/",
          "height": 295
        },
        "id": "QQNZBXgiXVmr",
        "outputId": "1e431d19-9ddf-4753-83b7-89d2f0018d8e"
      },
      "execution_count": null,
      "outputs": [
        {
          "output_type": "display_data",
          "data": {
            "text/plain": [
              "<Figure size 432x288 with 1 Axes>"
            ],
            "image/png": "[encoded data removed]"
          },
          "metadata": {
            "needs_background": "light"
          }
        }
      ]
    },
    {
      "cell_type": "code",
      "source": [
        "model = get_compiled_model()\n",
        "history2 = model.fit(train_dataset, epochs=200,validation_data=(x_test, y_test))"
      ],
      "metadata": {
        "colab": {
          "base_uri": "https://localhost:8080/"
        },
        "id": "orYHafl5dd14",
        "outputId": "c70d7ffc-360b-4c8c-c429-b55730aa5768"
      },
      "execution_count": null,
      "outputs": [
        {
          "output_type": "stream",
          "name": "stdout",
          "text": [
            "Epoch 1/200\n",
            "1333/1333 [==============================] - 4s 2ms/step - loss: 0.6195 - accuracy: 0.8897 - val_loss: 0.2999 - val_accuracy: 0.9072\n",
            "Epoch 2/200\n",
            "1333/1333 [==============================] - 3s 2ms/step - loss: 0.3326 - accuracy: 0.9017 - val_loss: 0.2947 - val_accuracy: 0.9124\n",
            "Epoch 3/200\n",
            "1333/1333 [==============================] - 3s 2ms/step - loss: 0.2697 - accuracy: 0.9130 - val_loss: 0.2922 - val_accuracy: 0.9089\n",
            "Epoch 4/200\n",
            "1333/1333 [==============================] - 3s 2ms/step - loss: 0.2670 - accuracy: 0.9122 - val_loss: 0.3130 - val_accuracy: 0.9142\n",
            "Epoch 5/200\n",
            "1333/1333 [==============================] - 3s 2ms/step - loss: 0.2541 - accuracy: 0.9167 - val_loss: 0.2799 - val_accuracy: 0.9089\n",
            "Epoch 6/200\n",
            "1333/1333 [==============================] - 3s 2ms/step - loss: 0.2365 - accuracy: 0.9137 - val_loss: 0.2464 - val_accuracy: 0.9142\n",
            "Epoch 7/200\n",
            "1333/1333 [==============================] - 2s 2ms/step - loss: 0.2301 - accuracy: 0.9152 - val_loss: 0.2504 - val_accuracy: 0.9124\n",
            "Epoch 8/200\n",
            "1333/1333 [==============================] - 3s 2ms/step - loss: 0.2166 - accuracy: 0.9160 - val_loss: 0.2778 - val_accuracy: 0.9335\n",
            "Epoch 9/200\n",
            "1333/1333 [==============================] - 3s 2ms/step - loss: 0.2113 - accuracy: 0.9145 - val_loss: 0.2819 - val_accuracy: 0.9124\n",
            "Epoch 10/200\n",
            "1333/1333 [==============================] - 3s 2ms/step - loss: 0.2162 - accuracy: 0.9220 - val_loss: 0.2697 - val_accuracy: 0.9089\n",
            "Epoch 11/200\n",
            "1333/1333 [==============================] - 2s 2ms/step - loss: 0.2152 - accuracy: 0.9197 - val_loss: 0.2323 - val_accuracy: 0.9264\n",
            "Epoch 12/200\n",
            "1333/1333 [==============================] - 3s 2ms/step - loss: 0.2007 - accuracy: 0.9197 - val_loss: 0.2384 - val_accuracy: 0.9352\n",
            "Epoch 13/200\n",
            "1333/1333 [==============================] - 3s 2ms/step - loss: 0.2032 - accuracy: 0.9295 - val_loss: 0.2382 - val_accuracy: 0.9352\n",
            "Epoch 14/200\n",
            "1333/1333 [==============================] - 3s 2ms/step - loss: 0.2010 - accuracy: 0.9257 - val_loss: 0.2729 - val_accuracy: 0.9282\n",
            "Epoch 15/200\n",
            "1333/1333 [==============================] - 3s 2ms/step - loss: 0.2011 - accuracy: 0.9272 - val_loss: 0.2368 - val_accuracy: 0.9247\n",
            "Epoch 16/200\n",
            "1333/1333 [==============================] - 3s 2ms/step - loss: 0.1886 - accuracy: 0.9317 - val_loss: 0.2343 - val_accuracy: 0.9264\n",
            "Epoch 17/200\n",
            "1333/1333 [==============================] - 2s 2ms/step - loss: 0.1850 - accuracy: 0.9325 - val_loss: 0.2233 - val_accuracy: 0.9247\n",
            "Epoch 18/200\n",
            "1333/1333 [==============================] - 3s 2ms/step - loss: 0.1895 - accuracy: 0.9302 - val_loss: 0.1975 - val_accuracy: 0.9335\n",
            "Epoch 19/200\n",
            "1333/1333 [==============================] - 2s 2ms/step - loss: 0.1842 - accuracy: 0.9302 - val_loss: 0.1949 - val_accuracy: 0.9317\n",
            "Epoch 20/200\n",
            "1333/1333 [==============================] - 3s 2ms/step - loss: 0.1806 - accuracy: 0.9347 - val_loss: 0.2149 - val_accuracy: 0.9212\n",
            "Epoch 21/200\n",
            "1333/1333 [==============================] - 3s 2ms/step - loss: 0.1719 - accuracy: 0.9347 - val_loss: 0.1930 - val_accuracy: 0.9282\n",
            "Epoch 22/200\n",
            "1333/1333 [==============================] - 3s 2ms/step - loss: 0.1784 - accuracy: 0.9347 - val_loss: 0.2068 - val_accuracy: 0.9299\n",
            "Epoch 23/200\n",
            "1333/1333 [==============================] - 3s 2ms/step - loss: 0.1747 - accuracy: 0.9287 - val_loss: 0.2281 - val_accuracy: 0.9142\n",
            "Epoch 24/200\n",
            "1333/1333 [==============================] - 3s 2ms/step - loss: 0.1613 - accuracy: 0.9392 - val_loss: 0.2149 - val_accuracy: 0.9247\n",
            "Epoch 25/200\n",
            "1333/1333 [==============================] - 3s 2ms/step - loss: 0.1713 - accuracy: 0.9362 - val_loss: 0.1973 - val_accuracy: 0.9194\n",
            "Epoch 26/200\n",
            "1333/1333 [==============================] - 3s 2ms/step - loss: 0.1623 - accuracy: 0.9415 - val_loss: 0.1653 - val_accuracy: 0.9370\n",
            "Epoch 27/200\n",
            "1333/1333 [==============================] - 3s 2ms/step - loss: 0.1647 - accuracy: 0.9355 - val_loss: 0.2257 - val_accuracy: 0.9229\n",
            "Epoch 28/200\n",
            "1333/1333 [==============================] - 3s 2ms/step - loss: 0.1565 - accuracy: 0.9422 - val_loss: 0.1686 - val_accuracy: 0.9387\n",
            "Epoch 29/200\n",
            "1333/1333 [==============================] - 3s 2ms/step - loss: 0.1549 - accuracy: 0.9415 - val_loss: 0.1636 - val_accuracy: 0.9370\n",
            "Epoch 30/200\n",
            "1333/1333 [==============================] - 3s 2ms/step - loss: 0.1536 - accuracy: 0.9377 - val_loss: 0.1938 - val_accuracy: 0.9299\n",
            "Epoch 31/200\n",
            "1333/1333 [==============================] - 3s 2ms/step - loss: 0.1498 - accuracy: 0.9452 - val_loss: 0.1476 - val_accuracy: 0.9405\n",
            "Epoch 32/200\n",
            "1333/1333 [==============================] - 3s 2ms/step - loss: 0.1490 - accuracy: 0.9437 - val_loss: 0.1525 - val_accuracy: 0.9475\n",
            "Epoch 33/200\n",
            "1333/1333 [==============================] - 3s 2ms/step - loss: 0.1407 - accuracy: 0.9497 - val_loss: 0.1439 - val_accuracy: 0.9422\n",
            "Epoch 34/200\n",
            "1333/1333 [==============================] - 3s 2ms/step - loss: 0.1441 - accuracy: 0.9467 - val_loss: 0.1472 - val_accuracy: 0.9422\n",
            "Epoch 35/200\n",
            "1333/1333 [==============================] - 3s 2ms/step - loss: 0.1259 - accuracy: 0.9542 - val_loss: 0.1381 - val_accuracy: 0.9492\n",
            "Epoch 36/200\n",
            "1333/1333 [==============================] - 3s 2ms/step - loss: 0.1394 - accuracy: 0.9490 - val_loss: 0.1414 - val_accuracy: 0.9545\n",
            "Epoch 37/200\n",
            "1333/1333 [==============================] - 3s 2ms/step - loss: 0.1284 - accuracy: 0.9505 - val_loss: 0.1506 - val_accuracy: 0.9405\n",
            "Epoch 38/200\n",
            "1333/1333 [==============================] - 2s 2ms/step - loss: 0.1276 - accuracy: 0.9467 - val_loss: 0.1262 - val_accuracy: 0.9545\n",
            "Epoch 39/200\n",
            "1333/1333 [==============================] - 2s 2ms/step - loss: 0.1303 - accuracy: 0.9527 - val_loss: 0.1585 - val_accuracy: 0.9440\n",
            "Epoch 40/200\n",
            "1333/1333 [==============================] - 2s 2ms/step - loss: 0.1252 - accuracy: 0.9557 - val_loss: 0.1201 - val_accuracy: 0.9562\n",
            "Epoch 41/200\n",
            "1333/1333 [==============================] - 3s 2ms/step - loss: 0.1179 - accuracy: 0.9557 - val_loss: 0.1266 - val_accuracy: 0.9510\n",
            "Epoch 42/200\n",
            "1333/1333 [==============================] - 2s 2ms/step - loss: 0.1117 - accuracy: 0.9580 - val_loss: 0.1249 - val_accuracy: 0.9615\n",
            "Epoch 43/200\n",
            "1333/1333 [==============================] - 2s 2ms/step - loss: 0.1261 - accuracy: 0.9527 - val_loss: 0.1709 - val_accuracy: 0.9457\n",
            "Epoch 44/200\n",
            "1333/1333 [==============================] - 2s 2ms/step - loss: 0.1150 - accuracy: 0.9550 - val_loss: 0.1113 - val_accuracy: 0.9545\n",
            "Epoch 45/200\n",
            "1333/1333 [==============================] - 3s 2ms/step - loss: 0.1053 - accuracy: 0.9632 - val_loss: 0.1069 - val_accuracy: 0.9632\n",
            "Epoch 46/200\n",
            "1333/1333 [==============================] - 3s 2ms/step - loss: 0.1077 - accuracy: 0.9565 - val_loss: 0.1030 - val_accuracy: 0.9580\n",
            "Epoch 47/200\n",
            "1333/1333 [==============================] - 3s 2ms/step - loss: 0.1086 - accuracy: 0.9647 - val_loss: 0.0965 - val_accuracy: 0.9650\n",
            "Epoch 48/200\n",
            "1333/1333 [==============================] - 3s 2ms/step - loss: 0.1148 - accuracy: 0.9580 - val_loss: 0.1181 - val_accuracy: 0.9545\n",
            "Epoch 49/200\n",
            "1333/1333 [==============================] - 3s 2ms/step - loss: 0.1054 - accuracy: 0.9655 - val_loss: 0.1093 - val_accuracy: 0.9580\n",
            "Epoch 50/200\n",
            "1333/1333 [==============================] - 3s 2ms/step - loss: 0.1199 - accuracy: 0.9580 - val_loss: 0.1908 - val_accuracy: 0.9370\n",
            "Epoch 51/200\n",
            "1333/1333 [==============================] - 3s 2ms/step - loss: 0.1119 - accuracy: 0.9617 - val_loss: 0.1125 - val_accuracy: 0.9667\n",
            "Epoch 52/200\n",
            "1333/1333 [==============================] - 3s 2ms/step - loss: 0.1044 - accuracy: 0.9602 - val_loss: 0.1271 - val_accuracy: 0.9580\n",
            "Epoch 53/200\n",
            "1333/1333 [==============================] - 3s 2ms/step - loss: 0.1069 - accuracy: 0.9617 - val_loss: 0.1120 - val_accuracy: 0.9615\n",
            "Epoch 54/200\n",
            "1333/1333 [==============================] - 3s 2ms/step - loss: 0.1045 - accuracy: 0.9617 - val_loss: 0.1548 - val_accuracy: 0.9510\n",
            "Epoch 55/200\n",
            "1333/1333 [==============================] - 3s 2ms/step - loss: 0.1113 - accuracy: 0.9550 - val_loss: 0.1050 - val_accuracy: 0.9667\n",
            "Epoch 56/200\n",
            "1333/1333 [==============================] - 3s 2ms/step - loss: 0.1043 - accuracy: 0.9595 - val_loss: 0.1458 - val_accuracy: 0.9562\n",
            "Epoch 57/200\n",
            "1333/1333 [==============================] - 3s 2ms/step - loss: 0.0998 - accuracy: 0.9602 - val_loss: 0.1285 - val_accuracy: 0.9580\n",
            "Epoch 58/200\n",
            "1333/1333 [==============================] - 3s 2ms/step - loss: 0.1020 - accuracy: 0.9625 - val_loss: 0.0950 - val_accuracy: 0.9597\n",
            "Epoch 59/200\n",
            "1333/1333 [==============================] - 3s 2ms/step - loss: 0.0990 - accuracy: 0.9610 - val_loss: 0.1699 - val_accuracy: 0.9422\n",
            "Epoch 60/200\n",
            "1333/1333 [==============================] - 3s 2ms/step - loss: 0.1176 - accuracy: 0.9572 - val_loss: 0.1442 - val_accuracy: 0.9492\n",
            "Epoch 61/200\n",
            "1333/1333 [==============================] - 3s 2ms/step - loss: 0.1019 - accuracy: 0.9617 - val_loss: 0.1147 - val_accuracy: 0.9615\n",
            "Epoch 62/200\n",
            "1333/1333 [==============================] - 3s 2ms/step - loss: 0.1049 - accuracy: 0.9632 - val_loss: 0.1030 - val_accuracy: 0.9702\n",
            "Epoch 63/200\n",
            "1333/1333 [==============================] - 3s 2ms/step - loss: 0.0951 - accuracy: 0.9655 - val_loss: 0.1067 - val_accuracy: 0.9667\n",
            "Epoch 64/200\n",
            "1333/1333 [==============================] - 3s 2ms/step - loss: 0.0936 - accuracy: 0.9640 - val_loss: 0.1703 - val_accuracy: 0.9492\n",
            "Epoch 65/200\n",
            "1333/1333 [==============================] - 2s 2ms/step - loss: 0.0982 - accuracy: 0.9647 - val_loss: 0.1034 - val_accuracy: 0.9702\n",
            "Epoch 66/200\n",
            "1333/1333 [==============================] - 3s 2ms/step - loss: 0.0875 - accuracy: 0.9655 - val_loss: 0.1088 - val_accuracy: 0.9580\n",
            "Epoch 67/200\n",
            "1333/1333 [==============================] - 3s 2ms/step - loss: 0.1009 - accuracy: 0.9632 - val_loss: 0.0987 - val_accuracy: 0.9650\n",
            "Epoch 68/200\n",
            "1333/1333 [==============================] - 3s 2ms/step - loss: 0.0885 - accuracy: 0.9662 - val_loss: 0.0859 - val_accuracy: 0.9702\n",
            "Epoch 69/200\n",
            "1333/1333 [==============================] - 3s 2ms/step - loss: 0.1044 - accuracy: 0.9617 - val_loss: 0.1114 - val_accuracy: 0.9580\n",
            "Epoch 70/200\n",
            "1333/1333 [==============================] - 3s 2ms/step - loss: 0.1098 - accuracy: 0.9580 - val_loss: 0.0896 - val_accuracy: 0.9702\n",
            "Epoch 71/200\n",
            "1333/1333 [==============================] - 3s 2ms/step - loss: 0.0855 - accuracy: 0.9707 - val_loss: 0.0943 - val_accuracy: 0.9667\n",
            "Epoch 72/200\n",
            "1333/1333 [==============================] - 3s 2ms/step - loss: 0.0994 - accuracy: 0.9662 - val_loss: 0.0945 - val_accuracy: 0.9702\n",
            "Epoch 73/200\n",
            "1333/1333 [==============================] - 3s 2ms/step - loss: 0.0997 - accuracy: 0.9670 - val_loss: 0.1043 - val_accuracy: 0.9650\n",
            "Epoch 74/200\n",
            "1333/1333 [==============================] - 3s 2ms/step - loss: 0.0951 - accuracy: 0.9617 - val_loss: 0.0850 - val_accuracy: 0.9720\n",
            "Epoch 75/200\n",
            "1333/1333 [==============================] - 3s 2ms/step - loss: 0.0879 - accuracy: 0.9685 - val_loss: 0.0921 - val_accuracy: 0.9615\n",
            "Epoch 76/200\n",
            "1333/1333 [==============================] - 3s 2ms/step - loss: 0.0887 - accuracy: 0.9685 - val_loss: 0.0885 - val_accuracy: 0.9737\n",
            "Epoch 77/200\n",
            "1333/1333 [==============================] - 3s 2ms/step - loss: 0.0838 - accuracy: 0.9700 - val_loss: 0.1115 - val_accuracy: 0.9597\n",
            "Epoch 78/200\n",
            "1333/1333 [==============================] - 3s 2ms/step - loss: 0.0884 - accuracy: 0.9715 - val_loss: 0.0773 - val_accuracy: 0.9720\n",
            "Epoch 79/200\n",
            "1333/1333 [==============================] - 3s 2ms/step - loss: 0.0803 - accuracy: 0.9707 - val_loss: 0.0848 - val_accuracy: 0.9702\n",
            "Epoch 80/200\n",
            "1333/1333 [==============================] - 3s 2ms/step - loss: 0.0843 - accuracy: 0.9692 - val_loss: 0.0854 - val_accuracy: 0.9720\n",
            "Epoch 81/200\n",
            "1333/1333 [==============================] - 3s 2ms/step - loss: 0.0882 - accuracy: 0.9670 - val_loss: 0.0836 - val_accuracy: 0.9737\n",
            "Epoch 82/200\n",
            "1333/1333 [==============================] - 3s 2ms/step - loss: 0.0749 - accuracy: 0.9737 - val_loss: 0.0908 - val_accuracy: 0.9755\n",
            "Epoch 83/200\n",
            "1333/1333 [==============================] - 3s 2ms/step - loss: 0.0841 - accuracy: 0.9692 - val_loss: 0.0845 - val_accuracy: 0.9755\n",
            "Epoch 84/200\n",
            "1333/1333 [==============================] - 3s 2ms/step - loss: 0.0789 - accuracy: 0.9685 - val_loss: 0.0869 - val_accuracy: 0.9755\n",
            "Epoch 85/200\n",
            "1333/1333 [==============================] - 2s 2ms/step - loss: 0.0805 - accuracy: 0.9677 - val_loss: 0.0841 - val_accuracy: 0.9755\n",
            "Epoch 86/200\n",
            "1333/1333 [==============================] - 3s 2ms/step - loss: 0.0830 - accuracy: 0.9685 - val_loss: 0.0928 - val_accuracy: 0.9755\n",
            "Epoch 87/200\n",
            "1333/1333 [==============================] - 3s 2ms/step - loss: 0.0749 - accuracy: 0.9707 - val_loss: 0.0844 - val_accuracy: 0.9720\n",
            "Epoch 88/200\n",
            "1333/1333 [==============================] - 2s 2ms/step - loss: 0.0863 - accuracy: 0.9692 - val_loss: 0.0896 - val_accuracy: 0.9737\n",
            "Epoch 89/200\n",
            "1333/1333 [==============================] - 3s 2ms/step - loss: 0.0745 - accuracy: 0.9700 - val_loss: 0.1148 - val_accuracy: 0.9667\n",
            "Epoch 90/200\n",
            "1333/1333 [==============================] - 3s 2ms/step - loss: 0.0789 - accuracy: 0.9715 - val_loss: 0.1004 - val_accuracy: 0.9667\n",
            "Epoch 91/200\n",
            "1333/1333 [==============================] - 2s 2ms/step - loss: 0.0835 - accuracy: 0.9670 - val_loss: 0.1011 - val_accuracy: 0.9667\n",
            "Epoch 92/200\n",
            "1333/1333 [==============================] - 3s 2ms/step - loss: 0.0799 - accuracy: 0.9685 - val_loss: 0.1319 - val_accuracy: 0.9667\n",
            "Epoch 93/200\n",
            "1333/1333 [==============================] - 3s 2ms/step - loss: 0.0755 - accuracy: 0.9752 - val_loss: 0.1081 - val_accuracy: 0.9685\n",
            "Epoch 94/200\n",
            "1333/1333 [==============================] - 2s 2ms/step - loss: 0.0784 - accuracy: 0.9692 - val_loss: 0.0989 - val_accuracy: 0.9737\n",
            "Epoch 95/200\n",
            "1333/1333 [==============================] - 2s 2ms/step - loss: 0.0732 - accuracy: 0.9730 - val_loss: 0.1033 - val_accuracy: 0.9685\n",
            "Epoch 96/200\n",
            "1333/1333 [==============================] - 3s 2ms/step - loss: 0.0781 - accuracy: 0.9730 - val_loss: 0.0901 - val_accuracy: 0.9772\n",
            "Epoch 97/200\n",
            "1333/1333 [==============================] - 3s 2ms/step - loss: 0.0827 - accuracy: 0.9685 - val_loss: 0.0973 - val_accuracy: 0.9685\n",
            "Epoch 98/200\n",
            "1333/1333 [==============================] - 2s 2ms/step - loss: 0.0744 - accuracy: 0.9700 - val_loss: 0.0918 - val_accuracy: 0.9737\n",
            "Epoch 99/200\n",
            "1333/1333 [==============================] - 3s 2ms/step - loss: 0.0852 - accuracy: 0.9752 - val_loss: 0.1003 - val_accuracy: 0.9667\n",
            "Epoch 100/200\n",
            "1333/1333 [==============================] - 3s 2ms/step - loss: 0.0760 - accuracy: 0.9707 - val_loss: 0.1105 - val_accuracy: 0.9685\n",
            "Epoch 101/200\n",
            "1333/1333 [==============================] - 2s 2ms/step - loss: 0.0760 - accuracy: 0.9715 - val_loss: 0.0890 - val_accuracy: 0.9790\n",
            "Epoch 102/200\n",
            "1333/1333 [==============================] - 3s 2ms/step - loss: 0.0758 - accuracy: 0.9692 - val_loss: 0.1013 - val_accuracy: 0.9737\n",
            "Epoch 103/200\n",
            "1333/1333 [==============================] - 3s 2ms/step - loss: 0.0757 - accuracy: 0.9730 - val_loss: 0.1081 - val_accuracy: 0.9685\n",
            "Epoch 104/200\n",
            "1333/1333 [==============================] - 2s 2ms/step - loss: 0.0772 - accuracy: 0.9707 - val_loss: 0.0966 - val_accuracy: 0.9737\n",
            "Epoch 105/200\n",
            "1333/1333 [==============================] - 3s 2ms/step - loss: 0.0819 - accuracy: 0.9677 - val_loss: 0.1143 - val_accuracy: 0.9755\n",
            "Epoch 106/200\n",
            "1333/1333 [==============================] - 3s 2ms/step - loss: 0.0711 - accuracy: 0.9745 - val_loss: 0.1040 - val_accuracy: 0.9755\n",
            "Epoch 107/200\n",
            "1333/1333 [==============================] - 2s 2ms/step - loss: 0.0719 - accuracy: 0.9707 - val_loss: 0.1218 - val_accuracy: 0.9667\n",
            "Epoch 108/200\n",
            "1333/1333 [==============================] - 3s 2ms/step - loss: 0.0802 - accuracy: 0.9745 - val_loss: 0.1113 - val_accuracy: 0.9720\n",
            "Epoch 109/200\n",
            "1333/1333 [==============================] - 3s 2ms/step - loss: 0.0770 - accuracy: 0.9745 - val_loss: 0.1221 - val_accuracy: 0.9720\n",
            "Epoch 110/200\n",
            "1333/1333 [==============================] - 3s 2ms/step - loss: 0.0778 - accuracy: 0.9760 - val_loss: 0.1504 - val_accuracy: 0.9615\n",
            "Epoch 111/200\n",
            "1333/1333 [==============================] - 2s 2ms/step - loss: 0.0701 - accuracy: 0.9730 - val_loss: 0.2710 - val_accuracy: 0.9422\n",
            "Epoch 112/200\n",
            "1333/1333 [==============================] - 3s 2ms/step - loss: 0.0803 - accuracy: 0.9685 - val_loss: 0.1477 - val_accuracy: 0.9615\n",
            "Epoch 113/200\n",
            "1333/1333 [==============================] - 3s 2ms/step - loss: 0.0651 - accuracy: 0.9760 - val_loss: 0.1355 - val_accuracy: 0.9667\n",
            "Epoch 114/200\n",
            "1333/1333 [==============================] - 2s 2ms/step - loss: 0.0678 - accuracy: 0.9745 - val_loss: 0.1144 - val_accuracy: 0.9667\n",
            "Epoch 115/200\n",
            "1333/1333 [==============================] - 2s 2ms/step - loss: 0.0805 - accuracy: 0.9700 - val_loss: 0.0951 - val_accuracy: 0.9772\n",
            "Epoch 116/200\n",
            "1333/1333 [==============================] - 3s 2ms/step - loss: 0.0656 - accuracy: 0.9775 - val_loss: 0.1339 - val_accuracy: 0.9720\n",
            "Epoch 117/200\n",
            "1333/1333 [==============================] - 2s 2ms/step - loss: 0.0688 - accuracy: 0.9767 - val_loss: 0.1446 - val_accuracy: 0.9720\n",
            "Epoch 118/200\n",
            "1333/1333 [==============================] - 2s 2ms/step - loss: 0.0689 - accuracy: 0.9752 - val_loss: 0.0946 - val_accuracy: 0.9772\n",
            "Epoch 119/200\n",
            "1333/1333 [==============================] - 2s 2ms/step - loss: 0.0718 - accuracy: 0.9760 - val_loss: 0.1093 - val_accuracy: 0.9720\n",
            "Epoch 120/200\n",
            "1333/1333 [==============================] - 3s 2ms/step - loss: 0.0674 - accuracy: 0.9760 - val_loss: 0.1012 - val_accuracy: 0.9737\n",
            "Epoch 121/200\n",
            "1333/1333 [==============================] - 3s 2ms/step - loss: 0.0887 - accuracy: 0.9685 - val_loss: 0.1021 - val_accuracy: 0.9685\n",
            "Epoch 122/200\n",
            "1333/1333 [==============================] - 3s 2ms/step - loss: 0.0673 - accuracy: 0.9715 - val_loss: 0.1266 - val_accuracy: 0.9667\n",
            "Epoch 123/200\n",
            "1333/1333 [==============================] - 3s 2ms/step - loss: 0.0693 - accuracy: 0.9722 - val_loss: 0.1304 - val_accuracy: 0.9737\n",
            "Epoch 124/200\n",
            "1333/1333 [==============================] - 2s 2ms/step - loss: 0.0684 - accuracy: 0.9715 - val_loss: 0.1338 - val_accuracy: 0.9737\n",
            "Epoch 125/200\n",
            "1333/1333 [==============================] - 3s 2ms/step - loss: 0.0799 - accuracy: 0.9670 - val_loss: 0.1175 - val_accuracy: 0.9685\n",
            "Epoch 126/200\n",
            "1333/1333 [==============================] - 2s 2ms/step - loss: 0.0620 - accuracy: 0.9760 - val_loss: 0.1111 - val_accuracy: 0.9737\n",
            "Epoch 127/200\n",
            "1333/1333 [==============================] - 3s 2ms/step - loss: 0.0634 - accuracy: 0.9820 - val_loss: 0.1670 - val_accuracy: 0.9650\n",
            "Epoch 128/200\n",
            "1333/1333 [==============================] - 3s 2ms/step - loss: 0.0689 - accuracy: 0.9775 - val_loss: 0.1827 - val_accuracy: 0.9615\n",
            "Epoch 129/200\n",
            "1333/1333 [==============================] - 2s 2ms/step - loss: 0.0662 - accuracy: 0.9737 - val_loss: 0.1378 - val_accuracy: 0.9650\n",
            "Epoch 130/200\n",
            "1333/1333 [==============================] - 2s 2ms/step - loss: 0.0715 - accuracy: 0.9760 - val_loss: 0.1422 - val_accuracy: 0.9702\n",
            "Epoch 131/200\n",
            "1333/1333 [==============================] - 3s 2ms/step - loss: 0.0675 - accuracy: 0.9722 - val_loss: 0.4060 - val_accuracy: 0.8809\n",
            "Epoch 132/200\n",
            "1333/1333 [==============================] - 2s 2ms/step - loss: 0.0743 - accuracy: 0.9730 - val_loss: 0.1041 - val_accuracy: 0.9807\n",
            "Epoch 133/200\n",
            "1333/1333 [==============================] - 3s 2ms/step - loss: 0.0726 - accuracy: 0.9745 - val_loss: 0.2754 - val_accuracy: 0.9492\n",
            "Epoch 134/200\n",
            "1333/1333 [==============================] - 3s 2ms/step - loss: 0.0921 - accuracy: 0.9677 - val_loss: 0.1197 - val_accuracy: 0.9720\n",
            "Epoch 135/200\n",
            "1333/1333 [==============================] - 3s 2ms/step - loss: 0.0638 - accuracy: 0.9745 - val_loss: 0.1259 - val_accuracy: 0.9772\n",
            "Epoch 136/200\n",
            "1333/1333 [==============================] - 2s 2ms/step - loss: 0.0718 - accuracy: 0.9752 - val_loss: 0.1484 - val_accuracy: 0.9685\n",
            "Epoch 137/200\n",
            "1333/1333 [==============================] - 2s 2ms/step - loss: 0.0707 - accuracy: 0.9767 - val_loss: 0.1417 - val_accuracy: 0.9702\n",
            "Epoch 138/200\n",
            "1333/1333 [==============================] - 3s 2ms/step - loss: 0.0647 - accuracy: 0.9760 - val_loss: 0.1264 - val_accuracy: 0.9755\n",
            "Epoch 139/200\n",
            "1333/1333 [==============================] - 3s 2ms/step - loss: 0.0685 - accuracy: 0.9737 - val_loss: 0.4062 - val_accuracy: 0.9352\n",
            "Epoch 140/200\n",
            "1333/1333 [==============================] - 3s 2ms/step - loss: 0.0758 - accuracy: 0.9700 - val_loss: 0.2174 - val_accuracy: 0.9527\n",
            "Epoch 141/200\n",
            "1333/1333 [==============================] - 2s 2ms/step - loss: 0.0838 - accuracy: 0.9700 - val_loss: 0.1317 - val_accuracy: 0.9562\n",
            "Epoch 142/200\n",
            "1333/1333 [==============================] - 3s 2ms/step - loss: 0.0641 - accuracy: 0.9782 - val_loss: 0.1233 - val_accuracy: 0.9720\n",
            "Epoch 143/200\n",
            "1333/1333 [==============================] - 3s 2ms/step - loss: 0.0583 - accuracy: 0.9805 - val_loss: 0.1712 - val_accuracy: 0.9702\n",
            "Epoch 144/200\n",
            "1333/1333 [==============================] - 3s 2ms/step - loss: 0.0862 - accuracy: 0.9707 - val_loss: 0.1251 - val_accuracy: 0.9737\n",
            "Epoch 145/200\n",
            "1333/1333 [==============================] - 3s 2ms/step - loss: 0.0711 - accuracy: 0.9737 - val_loss: 0.1363 - val_accuracy: 0.9685\n",
            "Epoch 146/200\n",
            "1333/1333 [==============================] - 2s 2ms/step - loss: 0.0721 - accuracy: 0.9752 - val_loss: 0.1320 - val_accuracy: 0.9650\n",
            "Epoch 147/200\n",
            "1333/1333 [==============================] - 3s 2ms/step - loss: 0.0648 - accuracy: 0.9737 - val_loss: 0.1727 - val_accuracy: 0.9632\n",
            "Epoch 148/200\n",
            "1333/1333 [==============================] - 3s 2ms/step - loss: 0.0706 - accuracy: 0.9737 - val_loss: 0.1665 - val_accuracy: 0.9615\n",
            "Epoch 149/200\n",
            "1333/1333 [==============================] - 3s 2ms/step - loss: 0.0675 - accuracy: 0.9737 - val_loss: 0.1431 - val_accuracy: 0.9632\n",
            "Epoch 150/200\n",
            "1333/1333 [==============================] - 3s 2ms/step - loss: 0.0664 - accuracy: 0.9775 - val_loss: 0.1213 - val_accuracy: 0.9702\n",
            "Epoch 151/200\n",
            "1333/1333 [==============================] - 2s 2ms/step - loss: 0.0735 - accuracy: 0.9730 - val_loss: 0.1618 - val_accuracy: 0.9562\n",
            "Epoch 152/200\n",
            "1333/1333 [==============================] - 3s 2ms/step - loss: 0.0797 - accuracy: 0.9700 - val_loss: 0.1072 - val_accuracy: 0.9702\n",
            "Epoch 153/200\n",
            "1333/1333 [==============================] - 3s 2ms/step - loss: 0.0616 - accuracy: 0.9760 - val_loss: 0.1060 - val_accuracy: 0.9685\n",
            "Epoch 154/200\n",
            "1333/1333 [==============================] - 3s 2ms/step - loss: 0.0585 - accuracy: 0.9752 - val_loss: 0.1159 - val_accuracy: 0.9755\n",
            "Epoch 155/200\n",
            "1333/1333 [==============================] - 3s 2ms/step - loss: 0.0664 - accuracy: 0.9737 - val_loss: 0.1181 - val_accuracy: 0.9702\n",
            "Epoch 156/200\n",
            "1333/1333 [==============================] - 3s 2ms/step - loss: 0.0582 - accuracy: 0.9730 - val_loss: 0.0997 - val_accuracy: 0.9702\n",
            "Epoch 157/200\n",
            "1333/1333 [==============================] - 3s 2ms/step - loss: 0.0642 - accuracy: 0.9752 - val_loss: 0.1104 - val_accuracy: 0.9720\n",
            "Epoch 158/200\n",
            "1333/1333 [==============================] - 3s 2ms/step - loss: 0.0732 - accuracy: 0.9752 - val_loss: 0.1422 - val_accuracy: 0.9510\n",
            "Epoch 159/200\n",
            "1333/1333 [==============================] - 2s 2ms/step - loss: 0.0600 - accuracy: 0.9737 - val_loss: 0.1310 - val_accuracy: 0.9685\n",
            "Epoch 160/200\n",
            "1333/1333 [==============================] - 3s 2ms/step - loss: 0.0880 - accuracy: 0.9715 - val_loss: 0.1139 - val_accuracy: 0.9737\n",
            "Epoch 161/200\n",
            "1333/1333 [==============================] - 2s 2ms/step - loss: 0.0659 - accuracy: 0.9790 - val_loss: 0.1221 - val_accuracy: 0.9702\n",
            "Epoch 162/200\n",
            "1333/1333 [==============================] - 2s 2ms/step - loss: 0.0637 - accuracy: 0.9790 - val_loss: 0.0955 - val_accuracy: 0.9737\n",
            "Epoch 163/200\n",
            "1333/1333 [==============================] - 3s 2ms/step - loss: 0.0587 - accuracy: 0.9760 - val_loss: 0.1342 - val_accuracy: 0.9667\n",
            "Epoch 164/200\n",
            "1333/1333 [==============================] - 3s 2ms/step - loss: 0.0647 - accuracy: 0.9730 - val_loss: 0.1273 - val_accuracy: 0.9737\n",
            "Epoch 165/200\n",
            "1333/1333 [==============================] - 3s 2ms/step - loss: 0.0672 - accuracy: 0.9722 - val_loss: 0.1377 - val_accuracy: 0.9702\n",
            "Epoch 166/200\n",
            "1333/1333 [==============================] - 3s 2ms/step - loss: 0.0671 - accuracy: 0.9730 - val_loss: 0.1666 - val_accuracy: 0.9632\n",
            "Epoch 167/200\n",
            "1333/1333 [==============================] - 2s 2ms/step - loss: 0.0669 - accuracy: 0.9730 - val_loss: 0.1208 - val_accuracy: 0.9772\n",
            "Epoch 168/200\n",
            "1333/1333 [==============================] - 3s 2ms/step - loss: 0.0754 - accuracy: 0.9752 - val_loss: 0.2123 - val_accuracy: 0.9510\n",
            "Epoch 169/200\n",
            "1333/1333 [==============================] - 2s 2ms/step - loss: 0.0688 - accuracy: 0.9737 - val_loss: 0.1286 - val_accuracy: 0.9685\n",
            "Epoch 170/200\n",
            "1333/1333 [==============================] - 3s 2ms/step - loss: 0.0708 - accuracy: 0.9700 - val_loss: 0.0968 - val_accuracy: 0.9772\n",
            "Epoch 171/200\n",
            "1333/1333 [==============================] - 3s 2ms/step - loss: 0.0723 - accuracy: 0.9752 - val_loss: 0.1379 - val_accuracy: 0.9702\n",
            "Epoch 172/200\n",
            "1333/1333 [==============================] - 2s 2ms/step - loss: 0.0602 - accuracy: 0.9767 - val_loss: 0.1447 - val_accuracy: 0.9685\n",
            "Epoch 173/200\n",
            "1333/1333 [==============================] - 2s 2ms/step - loss: 0.0613 - accuracy: 0.9805 - val_loss: 0.1373 - val_accuracy: 0.9720\n",
            "Epoch 174/200\n",
            "1333/1333 [==============================] - 3s 2ms/step - loss: 0.0623 - accuracy: 0.9745 - val_loss: 0.1285 - val_accuracy: 0.9702\n",
            "Epoch 175/200\n",
            "1333/1333 [==============================] - 2s 2ms/step - loss: 0.0589 - accuracy: 0.9782 - val_loss: 0.1343 - val_accuracy: 0.9667\n",
            "Epoch 176/200\n",
            "1333/1333 [==============================] - 2s 2ms/step - loss: 0.0620 - accuracy: 0.9782 - val_loss: 0.1678 - val_accuracy: 0.9755\n",
            "Epoch 177/200\n",
            "1333/1333 [==============================] - 3s 2ms/step - loss: 0.0699 - accuracy: 0.9775 - val_loss: 0.1208 - val_accuracy: 0.9737\n",
            "Epoch 178/200\n",
            "1333/1333 [==============================] - 3s 2ms/step - loss: 0.0635 - accuracy: 0.9760 - val_loss: 0.1838 - val_accuracy: 0.9545\n",
            "Epoch 179/200\n",
            "1333/1333 [==============================] - 3s 2ms/step - loss: 0.0556 - accuracy: 0.9812 - val_loss: 0.1899 - val_accuracy: 0.9615\n",
            "Epoch 180/200\n",
            "1333/1333 [==============================] - 3s 2ms/step - loss: 0.0657 - accuracy: 0.9782 - val_loss: 0.1839 - val_accuracy: 0.9457\n",
            "Epoch 181/200\n",
            "1333/1333 [==============================] - 3s 2ms/step - loss: 0.0581 - accuracy: 0.9767 - val_loss: 0.1440 - val_accuracy: 0.9702\n",
            "Epoch 182/200\n",
            "1333/1333 [==============================] - 3s 2ms/step - loss: 0.0681 - accuracy: 0.9737 - val_loss: 0.1447 - val_accuracy: 0.9667\n",
            "Epoch 183/200\n",
            "1333/1333 [==============================] - 3s 2ms/step - loss: 0.0687 - accuracy: 0.9760 - val_loss: 0.1517 - val_accuracy: 0.9632\n",
            "Epoch 184/200\n",
            "1333/1333 [==============================] - 3s 2ms/step - loss: 0.0524 - accuracy: 0.9812 - val_loss: 0.1355 - val_accuracy: 0.9615\n",
            "Epoch 185/200\n",
            "1333/1333 [==============================] - 3s 2ms/step - loss: 0.0632 - accuracy: 0.9767 - val_loss: 0.1736 - val_accuracy: 0.9650\n",
            "Epoch 186/200\n",
            "1333/1333 [==============================] - 3s 2ms/step - loss: 0.0645 - accuracy: 0.9767 - val_loss: 0.1273 - val_accuracy: 0.9737\n",
            "Epoch 187/200\n",
            "1333/1333 [==============================] - 3s 2ms/step - loss: 0.0657 - accuracy: 0.9790 - val_loss: 0.1400 - val_accuracy: 0.9685\n",
            "Epoch 188/200\n",
            "1333/1333 [==============================] - 3s 2ms/step - loss: 0.0601 - accuracy: 0.9790 - val_loss: 0.2058 - val_accuracy: 0.9510\n",
            "Epoch 189/200\n",
            "1333/1333 [==============================] - 2s 2ms/step - loss: 0.0592 - accuracy: 0.9782 - val_loss: 0.1346 - val_accuracy: 0.9720\n",
            "Epoch 190/200\n",
            "1333/1333 [==============================] - 3s 2ms/step - loss: 0.0688 - accuracy: 0.9775 - val_loss: 0.1555 - val_accuracy: 0.9650\n",
            "Epoch 191/200\n",
            "1333/1333 [==============================] - 3s 2ms/step - loss: 0.0681 - accuracy: 0.9782 - val_loss: 0.1360 - val_accuracy: 0.9650\n",
            "Epoch 192/200\n",
            "1333/1333 [==============================] - 3s 2ms/step - loss: 0.0734 - accuracy: 0.9737 - val_loss: 0.1346 - val_accuracy: 0.9685\n",
            "Epoch 193/200\n",
            "1333/1333 [==============================] - 3s 2ms/step - loss: 0.0539 - accuracy: 0.9812 - val_loss: 0.1550 - val_accuracy: 0.9562\n",
            "Epoch 194/200\n",
            "1333/1333 [==============================] - 3s 2ms/step - loss: 0.0721 - accuracy: 0.9782 - val_loss: 0.1171 - val_accuracy: 0.9702\n",
            "Epoch 195/200\n",
            "1333/1333 [==============================] - 2s 2ms/step - loss: 0.0562 - accuracy: 0.9782 - val_loss: 0.1310 - val_accuracy: 0.9702\n",
            "Epoch 196/200\n",
            "1333/1333 [==============================] - 3s 2ms/step - loss: 0.0540 - accuracy: 0.9812 - val_loss: 0.1515 - val_accuracy: 0.9667\n",
            "Epoch 197/200\n",
            "1333/1333 [==============================] - 3s 2ms/step - loss: 0.0652 - accuracy: 0.9782 - val_loss: 0.1684 - val_accuracy: 0.9667\n",
            "Epoch 198/200\n",
            "1333/1333 [==============================] - 3s 2ms/step - loss: 0.0676 - accuracy: 0.9722 - val_loss: 0.1278 - val_accuracy: 0.9702\n",
            "Epoch 199/200\n",
            "1333/1333 [==============================] - 3s 2ms/step - loss: 0.0587 - accuracy: 0.9745 - val_loss: 0.1947 - val_accuracy: 0.9580\n",
            "Epoch 200/200\n",
            "1333/1333 [==============================] - 3s 2ms/step - loss: 0.0618 - accuracy: 0.9805 - val_loss: 0.1744 - val_accuracy: 0.9650\n"
          ]
        }
      ]
    },
    {
      "cell_type": "code",
      "source": [
        "model"
      ],
      "metadata": {
        "colab": {
          "base_uri": "https://localhost:8080/"
        },
        "id": "p5aYsUFKwld3",
        "outputId": "bd9ec32f-eeed-4925-b630-cb9e1ba6790c"
      },
      "execution_count": null,
      "outputs": [
        {
          "output_type": "execute_result",
          "data": {
            "text/plain": [
              "<keras.engine.sequential.Sequential at 0x7f6c0ab26850>"
            ]
          },
          "metadata": {},
          "execution_count": 44
        }
      ]
    },
    {
      "cell_type": "code",
      "source": [
        "history_dict2 = history2.history"
      ],
      "metadata": {
        "id": "mxLI8o2RdlGn"
      },
      "execution_count": null,
      "outputs": []
    },
    {
      "cell_type": "code",
      "source": [
        "import matplotlib.pyplot as plt\n",
        "acc = history_dict2['accuracy']\n",
        "val_acc = history_dict2['val_accuracy']\n",
        "loss = history_dict2['loss']\n",
        "val_loss = history_dict2['val_loss']\n",
        "\n",
        "epochs = range(1, len(acc) + 1)\n",
        "\n",
        "# “bo” represents \"blue point\"\n",
        "plt.plot(epochs, loss, 'b', label='Training loss',markersize=2)\n",
        "# b represents “blue line”\n",
        "plt.plot(epochs, val_loss, 'r', label='Validation loss',markersize=3)\n",
        "plt.title('Training and validation loss(epoch = 200)')\n",
        "plt.xlabel('Epochs')\n",
        "plt.ylabel('Loss')\n",
        "plt.legend()\n",
        "\n",
        "plt.show()"
      ],
      "metadata": {
        "id": "s6nW0CWLdofF",
        "colab": {
          "base_uri": "https://localhost:8080/",
          "height": 295
        },
        "outputId": "c322352f-51e3-414f-e743-47b62d681697"
      },
      "execution_count": null,
      "outputs": [
        {
          "output_type": "display_data",
          "data": {
            "text/plain": [
              "<Figure size 432x288 with 1 Axes>"
            ],
            "image/png": "[encoded data removed]"
          },
          "metadata": {
            "needs_background": "light"
          }
        }
      ]
    },
    {
      "cell_type": "code",
      "source": [
        "plt.clf()   # 清除数字\n",
        "plt.plot(epochs, acc, 'b', label='Training acc',markersize=2)\n",
        "plt.plot(epochs, val_acc, 'r', label='Validation acc',markersize=3)\n",
        "plt.title('Training and validation accuracy(epoch = 200)')\n",
        "plt.xlabel('Epochs')\n",
        "plt.ylabel('Accuracy')\n",
        "plt.legend()\n",
        "\n",
        "plt.show()"
      ],
      "metadata": {
        "id": "APK_IC9kdy7E",
        "colab": {
          "base_uri": "https://localhost:8080/",
          "height": 295
        },
        "outputId": "18e430f7-4249-4777-cf06-ff6bb19cdd8d"
      },
      "execution_count": null,
      "outputs": [
        {
          "output_type": "display_data",
          "data": {
            "text/plain": [
              "<Figure size 432x288 with 1 Axes>"
            ],
            "image/png": "[encoded data removed]"
          },
          "metadata": {
            "needs_background": "light"
          }
        }
      ]
    },
    {
      "cell_type": "code",
      "source": [
        "def get_compiled_model2():\n",
        "  model = tf.keras.Sequential([\n",
        "    # tf.keras.layers.BatchNormalization(),\n",
        "    tf.keras.layers.Dense(8, activation='relu'),\n",
        "    tf.keras.layers.Dense(8, activation='relu'),\n",
        "    tf.keras.layers.Dense(1, activation='sigmoid')\n",
        "  ])\n",
        "\n",
        "  model.compile(optimizer='adam',\n",
        "                loss='binary_crossentropy',\n",
        "                metrics=['accuracy'])\n",
        "  return model"
      ],
      "metadata": {
        "id": "Un9UAATQUIHm"
      },
      "execution_count": null,
      "outputs": []
    },
    {
      "cell_type": "code",
      "source": [
        "model2 = get_compiled_model2()\n",
        "history3 = model2.fit(train_dataset, epochs=100,validation_data=(x_test, y_test))\n",
        "history_dict3 = history3.history"
      ],
      "metadata": {
        "colab": {
          "base_uri": "https://localhost:8080/"
        },
        "id": "vgdpbae0t0EP",
        "outputId": "bc01bd48-a67e-4f84-cfdc-c5282734403b"
      },
      "execution_count": null,
      "outputs": [
        {
          "output_type": "stream",
          "name": "stdout",
          "text": [
            "Epoch 1/100\n",
            "1333/1333 [==============================] - 28s 20ms/step - loss: 3.0222 - accuracy: 0.8132 - val_loss: 0.9167 - val_accuracy: 0.8459\n",
            "Epoch 2/100\n",
            "1333/1333 [==============================] - 2s 1ms/step - loss: 0.6742 - accuracy: 0.8687 - val_loss: 0.4383 - val_accuracy: 0.8932\n",
            "Epoch 3/100\n",
            "1333/1333 [==============================] - 2s 1ms/step - loss: 0.3769 - accuracy: 0.8860 - val_loss: 0.3411 - val_accuracy: 0.8634\n",
            "Epoch 4/100\n",
            "1333/1333 [==============================] - 2s 2ms/step - loss: 0.3028 - accuracy: 0.9025 - val_loss: 0.2646 - val_accuracy: 0.9124\n",
            "Epoch 5/100\n",
            "1333/1333 [==============================] - 2s 1ms/step - loss: 0.2657 - accuracy: 0.9100 - val_loss: 0.2261 - val_accuracy: 0.9229\n",
            "Epoch 6/100\n",
            "1333/1333 [==============================] - 2s 2ms/step - loss: 0.2306 - accuracy: 0.9130 - val_loss: 0.3517 - val_accuracy: 0.8354\n",
            "Epoch 7/100\n",
            "1333/1333 [==============================] - 2s 2ms/step - loss: 0.2257 - accuracy: 0.9182 - val_loss: 0.2949 - val_accuracy: 0.9159\n",
            "Epoch 8/100\n",
            "1333/1333 [==============================] - 2s 1ms/step - loss: 0.2080 - accuracy: 0.9212 - val_loss: 0.2936 - val_accuracy: 0.9159\n",
            "Epoch 9/100\n",
            "1333/1333 [==============================] - 2s 1ms/step - loss: 0.2087 - accuracy: 0.9272 - val_loss: 0.2377 - val_accuracy: 0.9229\n",
            "Epoch 10/100\n",
            "1333/1333 [==============================] - 2s 1ms/step - loss: 0.2012 - accuracy: 0.9295 - val_loss: 0.1797 - val_accuracy: 0.9264\n",
            "Epoch 11/100\n",
            "1333/1333 [==============================] - 2s 1ms/step - loss: 0.1866 - accuracy: 0.9257 - val_loss: 0.1677 - val_accuracy: 0.9405\n",
            "Epoch 12/100\n",
            "1333/1333 [==============================] - 2s 2ms/step - loss: 0.1882 - accuracy: 0.9280 - val_loss: 0.2121 - val_accuracy: 0.9405\n",
            "Epoch 13/100\n",
            "1333/1333 [==============================] - 2s 1ms/step - loss: 0.1708 - accuracy: 0.9370 - val_loss: 0.1980 - val_accuracy: 0.9352\n",
            "Epoch 14/100\n",
            "1333/1333 [==============================] - 2s 1ms/step - loss: 0.1751 - accuracy: 0.9310 - val_loss: 0.2035 - val_accuracy: 0.9282\n",
            "Epoch 15/100\n",
            "1333/1333 [==============================] - 2s 1ms/step - loss: 0.1656 - accuracy: 0.9355 - val_loss: 0.1603 - val_accuracy: 0.9457\n",
            "Epoch 16/100\n",
            "1333/1333 [==============================] - 2s 1ms/step - loss: 0.1589 - accuracy: 0.9400 - val_loss: 0.2106 - val_accuracy: 0.9247\n",
            "Epoch 17/100\n",
            "1333/1333 [==============================] - 2s 1ms/step - loss: 0.1562 - accuracy: 0.9400 - val_loss: 0.1605 - val_accuracy: 0.9335\n",
            "Epoch 18/100\n",
            "1333/1333 [==============================] - 2s 1ms/step - loss: 0.1432 - accuracy: 0.9422 - val_loss: 0.1436 - val_accuracy: 0.9527\n",
            "Epoch 19/100\n",
            "1333/1333 [==============================] - 2s 2ms/step - loss: 0.1622 - accuracy: 0.9392 - val_loss: 0.1314 - val_accuracy: 0.9527\n",
            "Epoch 20/100\n",
            "1333/1333 [==============================] - 2s 1ms/step - loss: 0.1415 - accuracy: 0.9505 - val_loss: 0.1333 - val_accuracy: 0.9562\n",
            "Epoch 21/100\n",
            "1333/1333 [==============================] - 2s 2ms/step - loss: 0.1478 - accuracy: 0.9542 - val_loss: 0.1391 - val_accuracy: 0.9457\n",
            "Epoch 22/100\n",
            "1333/1333 [==============================] - 2s 2ms/step - loss: 0.1345 - accuracy: 0.9527 - val_loss: 0.1120 - val_accuracy: 0.9685\n",
            "Epoch 23/100\n",
            "1333/1333 [==============================] - 2s 1ms/step - loss: 0.1381 - accuracy: 0.9490 - val_loss: 0.1140 - val_accuracy: 0.9632\n",
            "Epoch 24/100\n",
            "1333/1333 [==============================] - 2s 1ms/step - loss: 0.1382 - accuracy: 0.9527 - val_loss: 0.1347 - val_accuracy: 0.9475\n",
            "Epoch 25/100\n",
            "1333/1333 [==============================] - 2s 1ms/step - loss: 0.1293 - accuracy: 0.9482 - val_loss: 0.1384 - val_accuracy: 0.9510\n",
            "Epoch 26/100\n",
            "1333/1333 [==============================] - 2s 1ms/step - loss: 0.1274 - accuracy: 0.9527 - val_loss: 0.1174 - val_accuracy: 0.9580\n",
            "Epoch 27/100\n",
            "1333/1333 [==============================] - 2s 1ms/step - loss: 0.1264 - accuracy: 0.9527 - val_loss: 0.1058 - val_accuracy: 0.9667\n",
            "Epoch 28/100\n",
            "1333/1333 [==============================] - 2s 1ms/step - loss: 0.1216 - accuracy: 0.9542 - val_loss: 0.1026 - val_accuracy: 0.9667\n",
            "Epoch 29/100\n",
            "1333/1333 [==============================] - 2s 1ms/step - loss: 0.1136 - accuracy: 0.9610 - val_loss: 0.1020 - val_accuracy: 0.9650\n",
            "Epoch 30/100\n",
            "1333/1333 [==============================] - 2s 2ms/step - loss: 0.1212 - accuracy: 0.9512 - val_loss: 0.0942 - val_accuracy: 0.9772\n",
            "Epoch 31/100\n",
            "1333/1333 [==============================] - 2s 2ms/step - loss: 0.1236 - accuracy: 0.9520 - val_loss: 0.1495 - val_accuracy: 0.9562\n",
            "Epoch 32/100\n",
            "1333/1333 [==============================] - 2s 2ms/step - loss: 0.1062 - accuracy: 0.9632 - val_loss: 0.1450 - val_accuracy: 0.9545\n",
            "Epoch 33/100\n",
            "1333/1333 [==============================] - 2s 2ms/step - loss: 0.1330 - accuracy: 0.9542 - val_loss: 0.0937 - val_accuracy: 0.9667\n",
            "Epoch 34/100\n",
            "1333/1333 [==============================] - 2s 1ms/step - loss: 0.1118 - accuracy: 0.9580 - val_loss: 0.0900 - val_accuracy: 0.9702\n",
            "Epoch 35/100\n",
            "1333/1333 [==============================] - 2s 2ms/step - loss: 0.1158 - accuracy: 0.9565 - val_loss: 0.1008 - val_accuracy: 0.9650\n",
            "Epoch 36/100\n",
            "1333/1333 [==============================] - 2s 2ms/step - loss: 0.1110 - accuracy: 0.9602 - val_loss: 0.1867 - val_accuracy: 0.9159\n",
            "Epoch 37/100\n",
            "1333/1333 [==============================] - 2s 2ms/step - loss: 0.1077 - accuracy: 0.9662 - val_loss: 0.0940 - val_accuracy: 0.9685\n",
            "Epoch 38/100\n",
            "1333/1333 [==============================] - 2s 1ms/step - loss: 0.1171 - accuracy: 0.9602 - val_loss: 0.1122 - val_accuracy: 0.9580\n",
            "Epoch 39/100\n",
            "1333/1333 [==============================] - 2s 2ms/step - loss: 0.1016 - accuracy: 0.9572 - val_loss: 0.0968 - val_accuracy: 0.9667\n",
            "Epoch 40/100\n",
            "1333/1333 [==============================] - 2s 2ms/step - loss: 0.1069 - accuracy: 0.9595 - val_loss: 0.2118 - val_accuracy: 0.9037\n",
            "Epoch 41/100\n",
            "1333/1333 [==============================] - 2s 2ms/step - loss: 0.1052 - accuracy: 0.9580 - val_loss: 0.1895 - val_accuracy: 0.9422\n",
            "Epoch 42/100\n",
            "1333/1333 [==============================] - 2s 2ms/step - loss: 0.1071 - accuracy: 0.9617 - val_loss: 0.0899 - val_accuracy: 0.9720\n",
            "Epoch 43/100\n",
            "1333/1333 [==============================] - 2s 2ms/step - loss: 0.1060 - accuracy: 0.9602 - val_loss: 0.1848 - val_accuracy: 0.9317\n",
            "Epoch 44/100\n",
            "1333/1333 [==============================] - 2s 2ms/step - loss: 0.1162 - accuracy: 0.9662 - val_loss: 0.1692 - val_accuracy: 0.9229\n",
            "Epoch 45/100\n",
            "1333/1333 [==============================] - 2s 1ms/step - loss: 0.1040 - accuracy: 0.9647 - val_loss: 0.1049 - val_accuracy: 0.9597\n",
            "Epoch 46/100\n",
            "1333/1333 [==============================] - 3s 3ms/step - loss: 0.1075 - accuracy: 0.9572 - val_loss: 0.1228 - val_accuracy: 0.9615\n",
            "Epoch 47/100\n",
            "1333/1333 [==============================] - 2s 1ms/step - loss: 0.1079 - accuracy: 0.9610 - val_loss: 0.1382 - val_accuracy: 0.9440\n",
            "Epoch 48/100\n",
            "1333/1333 [==============================] - 2s 1ms/step - loss: 0.1023 - accuracy: 0.9580 - val_loss: 0.1201 - val_accuracy: 0.9615\n",
            "Epoch 49/100\n",
            "1333/1333 [==============================] - 2s 1ms/step - loss: 0.0959 - accuracy: 0.9625 - val_loss: 0.1025 - val_accuracy: 0.9650\n",
            "Epoch 50/100\n",
            "1333/1333 [==============================] - 2s 1ms/step - loss: 0.0927 - accuracy: 0.9670 - val_loss: 0.1093 - val_accuracy: 0.9615\n",
            "Epoch 51/100\n",
            "1333/1333 [==============================] - 2s 1ms/step - loss: 0.1031 - accuracy: 0.9610 - val_loss: 0.1200 - val_accuracy: 0.9632\n",
            "Epoch 52/100\n",
            "1333/1333 [==============================] - 2s 1ms/step - loss: 0.1007 - accuracy: 0.9685 - val_loss: 0.0918 - val_accuracy: 0.9685\n",
            "Epoch 53/100\n",
            "1333/1333 [==============================] - 2s 1ms/step - loss: 0.0925 - accuracy: 0.9647 - val_loss: 0.0906 - val_accuracy: 0.9737\n",
            "Epoch 54/100\n",
            "1333/1333 [==============================] - 2s 1ms/step - loss: 0.1013 - accuracy: 0.9595 - val_loss: 0.1102 - val_accuracy: 0.9667\n",
            "Epoch 55/100\n",
            "1333/1333 [==============================] - 2s 2ms/step - loss: 0.1013 - accuracy: 0.9640 - val_loss: 0.1023 - val_accuracy: 0.9737\n",
            "Epoch 56/100\n",
            "1333/1333 [==============================] - 2s 1ms/step - loss: 0.0926 - accuracy: 0.9625 - val_loss: 0.1037 - val_accuracy: 0.9597\n",
            "Epoch 57/100\n",
            "1333/1333 [==============================] - 2s 1ms/step - loss: 0.1028 - accuracy: 0.9707 - val_loss: 0.0875 - val_accuracy: 0.9720\n",
            "Epoch 58/100\n",
            "1333/1333 [==============================] - 2s 2ms/step - loss: 0.0967 - accuracy: 0.9647 - val_loss: 0.1143 - val_accuracy: 0.9632\n",
            "Epoch 59/100\n",
            "1333/1333 [==============================] - 2s 1ms/step - loss: 0.0928 - accuracy: 0.9685 - val_loss: 0.0990 - val_accuracy: 0.9720\n",
            "Epoch 60/100\n",
            "1333/1333 [==============================] - 2s 1ms/step - loss: 0.0918 - accuracy: 0.9647 - val_loss: 0.1362 - val_accuracy: 0.9597\n",
            "Epoch 61/100\n",
            "1333/1333 [==============================] - 2s 1ms/step - loss: 0.0855 - accuracy: 0.9685 - val_loss: 0.1679 - val_accuracy: 0.9352\n",
            "Epoch 62/100\n",
            "1333/1333 [==============================] - 2s 1ms/step - loss: 0.1040 - accuracy: 0.9602 - val_loss: 0.0948 - val_accuracy: 0.9737\n",
            "Epoch 63/100\n",
            "1333/1333 [==============================] - 2s 1ms/step - loss: 0.0897 - accuracy: 0.9632 - val_loss: 0.0908 - val_accuracy: 0.9737\n",
            "Epoch 64/100\n",
            "1333/1333 [==============================] - 2s 1ms/step - loss: 0.0891 - accuracy: 0.9647 - val_loss: 0.0952 - val_accuracy: 0.9685\n",
            "Epoch 65/100\n",
            "1333/1333 [==============================] - 2s 1ms/step - loss: 0.0907 - accuracy: 0.9632 - val_loss: 0.0989 - val_accuracy: 0.9650\n",
            "Epoch 66/100\n",
            "1333/1333 [==============================] - 2s 1ms/step - loss: 0.0853 - accuracy: 0.9715 - val_loss: 0.1266 - val_accuracy: 0.9632\n",
            "Epoch 67/100\n",
            "1333/1333 [==============================] - 2s 2ms/step - loss: 0.0904 - accuracy: 0.9632 - val_loss: 0.1005 - val_accuracy: 0.9720\n",
            "Epoch 68/100\n",
            "1333/1333 [==============================] - 2s 2ms/step - loss: 0.0895 - accuracy: 0.9700 - val_loss: 0.1324 - val_accuracy: 0.9527\n",
            "Epoch 69/100\n",
            "1333/1333 [==============================] - 2s 2ms/step - loss: 0.0945 - accuracy: 0.9685 - val_loss: 0.0990 - val_accuracy: 0.9667\n",
            "Epoch 70/100\n",
            "1333/1333 [==============================] - 2s 1ms/step - loss: 0.0870 - accuracy: 0.9662 - val_loss: 0.0969 - val_accuracy: 0.9737\n",
            "Epoch 71/100\n",
            "1333/1333 [==============================] - 2s 1ms/step - loss: 0.0838 - accuracy: 0.9700 - val_loss: 0.1115 - val_accuracy: 0.9685\n",
            "Epoch 72/100\n",
            "1333/1333 [==============================] - 2s 2ms/step - loss: 0.0999 - accuracy: 0.9580 - val_loss: 0.1029 - val_accuracy: 0.9737\n",
            "Epoch 73/100\n",
            "1333/1333 [==============================] - 2s 1ms/step - loss: 0.0851 - accuracy: 0.9685 - val_loss: 0.1217 - val_accuracy: 0.9580\n",
            "Epoch 74/100\n",
            "1333/1333 [==============================] - 2s 2ms/step - loss: 0.0845 - accuracy: 0.9677 - val_loss: 0.0997 - val_accuracy: 0.9685\n",
            "Epoch 75/100\n",
            "1333/1333 [==============================] - 2s 1ms/step - loss: 0.0867 - accuracy: 0.9685 - val_loss: 0.1122 - val_accuracy: 0.9562\n",
            "Epoch 76/100\n",
            "1333/1333 [==============================] - 2s 1ms/step - loss: 0.0883 - accuracy: 0.9632 - val_loss: 0.1019 - val_accuracy: 0.9720\n",
            "Epoch 77/100\n",
            "1333/1333 [==============================] - 2s 1ms/step - loss: 0.0853 - accuracy: 0.9707 - val_loss: 0.1003 - val_accuracy: 0.9667\n",
            "Epoch 78/100\n",
            "1333/1333 [==============================] - 2s 1ms/step - loss: 0.0929 - accuracy: 0.9670 - val_loss: 0.0868 - val_accuracy: 0.9772\n",
            "Epoch 79/100\n",
            "1333/1333 [==============================] - 2s 2ms/step - loss: 0.0903 - accuracy: 0.9655 - val_loss: 0.0868 - val_accuracy: 0.9720\n",
            "Epoch 80/100\n",
            "1333/1333 [==============================] - 2s 2ms/step - loss: 0.0872 - accuracy: 0.9662 - val_loss: 0.1211 - val_accuracy: 0.9685\n",
            "Epoch 81/100\n",
            "1333/1333 [==============================] - 2s 2ms/step - loss: 0.0915 - accuracy: 0.9685 - val_loss: 0.0926 - val_accuracy: 0.9737\n",
            "Epoch 82/100\n",
            "1333/1333 [==============================] - 2s 2ms/step - loss: 0.0818 - accuracy: 0.9685 - val_loss: 0.1011 - val_accuracy: 0.9720\n",
            "Epoch 83/100\n",
            "1333/1333 [==============================] - 2s 2ms/step - loss: 0.0866 - accuracy: 0.9692 - val_loss: 0.1402 - val_accuracy: 0.9562\n",
            "Epoch 84/100\n",
            "1333/1333 [==============================] - 2s 1ms/step - loss: 0.0865 - accuracy: 0.9707 - val_loss: 0.1528 - val_accuracy: 0.9667\n",
            "Epoch 85/100\n",
            "1333/1333 [==============================] - 2s 1ms/step - loss: 0.1023 - accuracy: 0.9625 - val_loss: 0.1098 - val_accuracy: 0.9650\n",
            "Epoch 86/100\n",
            "1333/1333 [==============================] - 2s 2ms/step - loss: 0.0912 - accuracy: 0.9655 - val_loss: 0.1013 - val_accuracy: 0.9685\n",
            "Epoch 87/100\n",
            "1333/1333 [==============================] - 2s 2ms/step - loss: 0.0857 - accuracy: 0.9670 - val_loss: 0.1211 - val_accuracy: 0.9562\n",
            "Epoch 88/100\n",
            "1333/1333 [==============================] - 2s 2ms/step - loss: 0.0762 - accuracy: 0.9677 - val_loss: 0.1577 - val_accuracy: 0.9457\n",
            "Epoch 89/100\n",
            "1333/1333 [==============================] - 2s 1ms/step - loss: 0.0916 - accuracy: 0.9670 - val_loss: 0.1011 - val_accuracy: 0.9737\n",
            "Epoch 90/100\n",
            "1333/1333 [==============================] - 2s 2ms/step - loss: 0.0924 - accuracy: 0.9707 - val_loss: 0.1106 - val_accuracy: 0.9650\n",
            "Epoch 91/100\n",
            "1333/1333 [==============================] - 2s 2ms/step - loss: 0.0805 - accuracy: 0.9700 - val_loss: 0.0979 - val_accuracy: 0.9720\n",
            "Epoch 92/100\n",
            "1333/1333 [==============================] - 2s 1ms/step - loss: 0.0915 - accuracy: 0.9752 - val_loss: 0.1061 - val_accuracy: 0.9667\n",
            "Epoch 93/100\n",
            "1333/1333 [==============================] - 2s 1ms/step - loss: 0.0873 - accuracy: 0.9700 - val_loss: 0.1034 - val_accuracy: 0.9685\n",
            "Epoch 94/100\n",
            "1333/1333 [==============================] - 2s 2ms/step - loss: 0.0824 - accuracy: 0.9707 - val_loss: 0.1068 - val_accuracy: 0.9597\n",
            "Epoch 95/100\n",
            "1333/1333 [==============================] - 2s 2ms/step - loss: 0.0800 - accuracy: 0.9692 - val_loss: 0.1149 - val_accuracy: 0.9737\n",
            "Epoch 96/100\n",
            "1333/1333 [==============================] - 2s 2ms/step - loss: 0.0898 - accuracy: 0.9662 - val_loss: 0.1104 - val_accuracy: 0.9632\n",
            "Epoch 97/100\n",
            "1333/1333 [==============================] - 2s 2ms/step - loss: 0.0775 - accuracy: 0.9745 - val_loss: 0.0963 - val_accuracy: 0.9685\n",
            "Epoch 98/100\n",
            "1333/1333 [==============================] - 2s 2ms/step - loss: 0.0856 - accuracy: 0.9670 - val_loss: 0.1082 - val_accuracy: 0.9597\n",
            "Epoch 99/100\n",
            "1333/1333 [==============================] - 2s 1ms/step - loss: 0.0763 - accuracy: 0.9745 - val_loss: 0.0869 - val_accuracy: 0.9737\n",
            "Epoch 100/100\n",
            "1333/1333 [==============================] - 2s 1ms/step - loss: 0.0809 - accuracy: 0.9730 - val_loss: 0.1259 - val_accuracy: 0.9597\n"
          ]
        }
      ]
    },
    {
      "cell_type": "code",
      "source": [
        "acc3 = history_dict3['accuracy']\n",
        "val_acc3 = history_dict3['val_accuracy']\n",
        "loss3 = history_dict3['loss']\n",
        "val_loss3 = history_dict3['val_loss']\n",
        "acc = history_dict['accuracy']\n",
        "val_acc = history_dict['val_accuracy']\n",
        "loss = history_dict['loss']\n",
        "val_loss = history_dict['val_loss']\n",
        "acc32 = history_dict32['accuracy']\n",
        "val_acc32 = history_dict32['val_accuracy']\n",
        "loss32 = history_dict32['loss']\n",
        "val_loss32 = history_dict32['val_loss']\n",
        "\n",
        "epochs = range(1, len(acc) + 1)\n",
        "\n",
        "# “bo” represents \"blue point\"\n",
        "plt.plot(epochs, loss3, 'g', label='Training loss(number of neurons=8)',markersize=2)\n",
        "plt.plot(epochs, loss, 'b', label='Training loss(number of neurons=10)',markersize=2)\n",
        "plt.plot(epochs, loss32, 'b', label='Training loss(number of neurons=12)',markersize=2)\n",
        "\n",
        "# b represents “blue line”\n",
        "plt.plot(epochs, val_loss3, 'y', label='Validation loss(number of neurons=8)',markersize=3)\n",
        "plt.plot(epochs, val_loss, 'r', label='Validation loss(number of neurons=10)',markersize=3)\n",
        "plt.plot(epochs, val_loss32, 'r', label='Validation loss(number of neurons=12)',markersize=3)\n",
        "\n",
        "\n",
        "plt.title('Training and validation loss')\n",
        "plt.xlabel('Epochs')\n",
        "plt.ylabel('Loss')\n",
        "plt.legend()\n",
        "plt.xlim((95, 100))\n",
        "plt.ylim((0, 0.2))\n",
        "plt.show()"
      ],
      "metadata": {
        "colab": {
          "base_uri": "https://localhost:8080/",
          "height": 295
        },
        "id": "j9Fj5tjUd9fk",
        "outputId": "0068e638-162d-428f-acad-38fb9a7e512d"
      },
      "execution_count": null,
      "outputs": [
        {
          "output_type": "display_data",
          "data": {
            "text/plain": [
              "<Figure size 432x288 with 1 Axes>"
            ],
            "image/png": "[encoded data removed]"
          },
          "metadata": {
            "needs_background": "light"
          }
        }
      ]
    },
    {
      "cell_type": "code",
      "source": [
        "plt.clf()   # 清除数字\n",
        "plt.plot(epochs, acc, 'b', label='Training acc',markersize=2)\n",
        "plt.plot(epochs, val_acc, 'r', label='Validation acc',markersize=3)\n",
        "plt.title('Training and validation accuracy(number of neurons=8)')\n",
        "plt.xlabel('Epochs')\n",
        "plt.ylabel('Accuracy')\n",
        "plt.legend()\n",
        "\n",
        "plt.show()"
      ],
      "metadata": {
        "colab": {
          "base_uri": "https://localhost:8080/",
          "height": 295
        },
        "id": "tbDoBmxNd976",
        "outputId": "01d46726-3244-4979-b290-181c67f3cf30"
      },
      "execution_count": null,
      "outputs": [
        {
          "output_type": "display_data",
          "data": {
            "text/plain": [
              "<Figure size 432x288 with 1 Axes>"
            ],
            "image/png": "[encoded data removed]"
          },
          "metadata": {
            "needs_background": "light"
          }
        }
      ]
    },
    {
      "cell_type": "code",
      "source": [
        "def get_compiled_model3():\n",
        "  model = tf.keras.Sequential([\n",
        "    # tf.keras.layers.BatchNormalization(),\n",
        "    tf.keras.layers.Dense(12, activation='relu'),\n",
        "    tf.keras.layers.Dense(12, activation='relu'),\n",
        "    tf.keras.layers.Dense(1, activation='sigmoid')\n",
        "  ])\n",
        "\n",
        "  model.compile(optimizer='adam',\n",
        "                loss='binary_crossentropy',\n",
        "                metrics=['accuracy'])\n",
        "  return model"
      ],
      "metadata": {
        "id": "hTJT8RxrrLBi"
      },
      "execution_count": null,
      "outputs": []
    },
    {
      "cell_type": "code",
      "source": [
        "model3 = get_compiled_model3()\n",
        "history32 = model3.fit(train_dataset, epochs=100,validation_data=(x_test, y_test))\n",
        "history_dict32 = history32.history"
      ],
      "metadata": {
        "colab": {
          "base_uri": "https://localhost:8080/"
        },
        "id": "0hS8uscGrNs4",
        "outputId": "feaeeb93-b6b5-4089-d0d9-629d56680d18"
      },
      "execution_count": null,
      "outputs": [
        {
          "output_type": "stream",
          "name": "stdout",
          "text": [
            "Epoch 1/100\n",
            "1333/1333 [==============================] - 3s 2ms/step - loss: 1.2446 - accuracy: 0.8447 - val_loss: 0.4315 - val_accuracy: 0.9019\n",
            "Epoch 2/100\n",
            "1333/1333 [==============================] - 2s 2ms/step - loss: 0.3997 - accuracy: 0.8927 - val_loss: 0.2776 - val_accuracy: 0.9142\n",
            "Epoch 3/100\n",
            "1333/1333 [==============================] - 2s 2ms/step - loss: 0.3568 - accuracy: 0.9017 - val_loss: 0.4354 - val_accuracy: 0.8231\n",
            "Epoch 4/100\n",
            "1333/1333 [==============================] - 2s 2ms/step - loss: 0.3202 - accuracy: 0.9092 - val_loss: 0.3422 - val_accuracy: 0.9142\n",
            "Epoch 5/100\n",
            "1333/1333 [==============================] - 2s 2ms/step - loss: 0.3080 - accuracy: 0.9047 - val_loss: 0.2809 - val_accuracy: 0.9037\n",
            "Epoch 6/100\n",
            "1333/1333 [==============================] - 2s 2ms/step - loss: 0.2737 - accuracy: 0.9092 - val_loss: 0.2700 - val_accuracy: 0.9194\n",
            "Epoch 7/100\n",
            "1333/1333 [==============================] - 2s 2ms/step - loss: 0.2562 - accuracy: 0.9167 - val_loss: 0.2779 - val_accuracy: 0.9072\n",
            "Epoch 8/100\n",
            "1333/1333 [==============================] - 2s 2ms/step - loss: 0.2502 - accuracy: 0.9160 - val_loss: 0.3537 - val_accuracy: 0.8564\n",
            "Epoch 9/100\n",
            "1333/1333 [==============================] - 2s 2ms/step - loss: 0.2300 - accuracy: 0.9160 - val_loss: 0.2774 - val_accuracy: 0.8897\n",
            "Epoch 10/100\n",
            "1333/1333 [==============================] - 2s 2ms/step - loss: 0.2266 - accuracy: 0.9212 - val_loss: 0.2752 - val_accuracy: 0.8967\n",
            "Epoch 11/100\n",
            "1333/1333 [==============================] - 2s 2ms/step - loss: 0.2260 - accuracy: 0.9190 - val_loss: 0.2384 - val_accuracy: 0.9177\n",
            "Epoch 12/100\n",
            "1333/1333 [==============================] - 2s 2ms/step - loss: 0.2101 - accuracy: 0.9212 - val_loss: 0.2295 - val_accuracy: 0.9159\n",
            "Epoch 13/100\n",
            "1333/1333 [==============================] - 2s 2ms/step - loss: 0.2032 - accuracy: 0.9242 - val_loss: 0.2166 - val_accuracy: 0.9212\n",
            "Epoch 14/100\n",
            "1333/1333 [==============================] - 2s 2ms/step - loss: 0.2115 - accuracy: 0.9235 - val_loss: 0.2198 - val_accuracy: 0.9247\n",
            "Epoch 15/100\n",
            "1333/1333 [==============================] - 2s 2ms/step - loss: 0.1909 - accuracy: 0.9272 - val_loss: 0.2086 - val_accuracy: 0.9299\n",
            "Epoch 16/100\n",
            "1333/1333 [==============================] - 3s 2ms/step - loss: 0.1898 - accuracy: 0.9265 - val_loss: 0.2182 - val_accuracy: 0.9159\n",
            "Epoch 17/100\n",
            "1333/1333 [==============================] - 2s 2ms/step - loss: 0.1890 - accuracy: 0.9265 - val_loss: 0.2384 - val_accuracy: 0.9229\n",
            "Epoch 18/100\n",
            "1333/1333 [==============================] - 2s 2ms/step - loss: 0.1789 - accuracy: 0.9220 - val_loss: 0.2056 - val_accuracy: 0.9194\n",
            "Epoch 19/100\n",
            "1333/1333 [==============================] - 3s 2ms/step - loss: 0.1775 - accuracy: 0.9370 - val_loss: 0.1782 - val_accuracy: 0.9440\n",
            "Epoch 20/100\n",
            "1333/1333 [==============================] - 3s 2ms/step - loss: 0.1832 - accuracy: 0.9332 - val_loss: 0.1814 - val_accuracy: 0.9264\n",
            "Epoch 21/100\n",
            "1333/1333 [==============================] - 4s 3ms/step - loss: 0.1660 - accuracy: 0.9392 - val_loss: 0.1870 - val_accuracy: 0.9387\n",
            "Epoch 22/100\n",
            "1333/1333 [==============================] - 4s 3ms/step - loss: 0.1636 - accuracy: 0.9377 - val_loss: 0.1790 - val_accuracy: 0.9352\n",
            "Epoch 23/100\n",
            "1333/1333 [==============================] - 3s 3ms/step - loss: 0.1615 - accuracy: 0.9325 - val_loss: 0.2124 - val_accuracy: 0.9212\n",
            "Epoch 24/100\n",
            "1333/1333 [==============================] - 3s 3ms/step - loss: 0.1589 - accuracy: 0.9362 - val_loss: 0.2243 - val_accuracy: 0.9124\n",
            "Epoch 25/100\n",
            "1333/1333 [==============================] - 2s 2ms/step - loss: 0.1604 - accuracy: 0.9325 - val_loss: 0.2250 - val_accuracy: 0.9229\n",
            "Epoch 26/100\n",
            "1333/1333 [==============================] - 2s 2ms/step - loss: 0.1619 - accuracy: 0.9385 - val_loss: 0.1993 - val_accuracy: 0.9247\n",
            "Epoch 27/100\n",
            "1333/1333 [==============================] - 2s 2ms/step - loss: 0.1453 - accuracy: 0.9445 - val_loss: 0.1949 - val_accuracy: 0.9422\n",
            "Epoch 28/100\n",
            "1333/1333 [==============================] - 2s 2ms/step - loss: 0.1503 - accuracy: 0.9377 - val_loss: 0.1616 - val_accuracy: 0.9457\n",
            "Epoch 29/100\n",
            "1333/1333 [==============================] - 2s 2ms/step - loss: 0.1579 - accuracy: 0.9400 - val_loss: 0.1859 - val_accuracy: 0.9299\n",
            "Epoch 30/100\n",
            "1333/1333 [==============================] - 2s 2ms/step - loss: 0.1411 - accuracy: 0.9460 - val_loss: 0.1634 - val_accuracy: 0.9440\n",
            "Epoch 31/100\n",
            "1333/1333 [==============================] - 2s 2ms/step - loss: 0.1403 - accuracy: 0.9482 - val_loss: 0.1502 - val_accuracy: 0.9562\n",
            "Epoch 32/100\n",
            "1333/1333 [==============================] - 2s 2ms/step - loss: 0.1395 - accuracy: 0.9520 - val_loss: 0.1656 - val_accuracy: 0.9370\n",
            "Epoch 33/100\n",
            "1333/1333 [==============================] - 4s 3ms/step - loss: 0.1387 - accuracy: 0.9467 - val_loss: 0.1406 - val_accuracy: 0.9562\n",
            "Epoch 34/100\n",
            "1333/1333 [==============================] - 3s 2ms/step - loss: 0.1331 - accuracy: 0.9475 - val_loss: 0.1880 - val_accuracy: 0.9247\n",
            "Epoch 35/100\n",
            "1333/1333 [==============================] - 4s 3ms/step - loss: 0.1362 - accuracy: 0.9445 - val_loss: 0.1362 - val_accuracy: 0.9562\n",
            "Epoch 36/100\n",
            "1333/1333 [==============================] - 2s 2ms/step - loss: 0.1290 - accuracy: 0.9497 - val_loss: 0.1429 - val_accuracy: 0.9422\n",
            "Epoch 37/100\n",
            "1333/1333 [==============================] - 3s 2ms/step - loss: 0.1284 - accuracy: 0.9490 - val_loss: 0.1653 - val_accuracy: 0.9440\n",
            "Epoch 38/100\n",
            "1333/1333 [==============================] - 2s 2ms/step - loss: 0.1255 - accuracy: 0.9452 - val_loss: 0.1557 - val_accuracy: 0.9317\n",
            "Epoch 39/100\n",
            "1333/1333 [==============================] - 3s 2ms/step - loss: 0.1158 - accuracy: 0.9550 - val_loss: 0.1150 - val_accuracy: 0.9650\n",
            "Epoch 40/100\n",
            "1333/1333 [==============================] - 3s 3ms/step - loss: 0.1178 - accuracy: 0.9565 - val_loss: 0.1241 - val_accuracy: 0.9685\n",
            "Epoch 41/100\n",
            "1333/1333 [==============================] - 3s 3ms/step - loss: 0.1112 - accuracy: 0.9625 - val_loss: 0.1315 - val_accuracy: 0.9580\n",
            "Epoch 42/100\n",
            "1333/1333 [==============================] - 4s 3ms/step - loss: 0.1089 - accuracy: 0.9572 - val_loss: 0.2495 - val_accuracy: 0.9107\n",
            "Epoch 43/100\n",
            "1333/1333 [==============================] - 2s 2ms/step - loss: 0.1135 - accuracy: 0.9602 - val_loss: 0.1156 - val_accuracy: 0.9632\n",
            "Epoch 44/100\n",
            "1333/1333 [==============================] - 2s 2ms/step - loss: 0.1044 - accuracy: 0.9610 - val_loss: 0.0990 - val_accuracy: 0.9632\n",
            "Epoch 45/100\n",
            "1333/1333 [==============================] - 2s 2ms/step - loss: 0.1141 - accuracy: 0.9550 - val_loss: 0.0963 - val_accuracy: 0.9632\n",
            "Epoch 46/100\n",
            "1333/1333 [==============================] - 2s 2ms/step - loss: 0.1047 - accuracy: 0.9617 - val_loss: 0.1165 - val_accuracy: 0.9650\n",
            "Epoch 47/100\n",
            "1333/1333 [==============================] - 2s 2ms/step - loss: 0.1052 - accuracy: 0.9580 - val_loss: 0.2258 - val_accuracy: 0.9142\n",
            "Epoch 48/100\n",
            "1333/1333 [==============================] - 2s 2ms/step - loss: 0.0941 - accuracy: 0.9655 - val_loss: 0.1149 - val_accuracy: 0.9580\n",
            "Epoch 49/100\n",
            "1333/1333 [==============================] - 2s 2ms/step - loss: 0.1040 - accuracy: 0.9662 - val_loss: 0.1070 - val_accuracy: 0.9615\n",
            "Epoch 50/100\n",
            "1333/1333 [==============================] - 2s 2ms/step - loss: 0.1168 - accuracy: 0.9580 - val_loss: 0.0952 - val_accuracy: 0.9685\n",
            "Epoch 51/100\n",
            "1333/1333 [==============================] - 3s 2ms/step - loss: 0.1028 - accuracy: 0.9685 - val_loss: 0.1371 - val_accuracy: 0.9632\n",
            "Epoch 52/100\n",
            "1333/1333 [==============================] - 3s 2ms/step - loss: 0.1026 - accuracy: 0.9602 - val_loss: 0.1124 - val_accuracy: 0.9615\n",
            "Epoch 53/100\n",
            "1333/1333 [==============================] - 2s 2ms/step - loss: 0.0970 - accuracy: 0.9662 - val_loss: 0.1092 - val_accuracy: 0.9667\n",
            "Epoch 54/100\n",
            "1333/1333 [==============================] - 3s 2ms/step - loss: 0.0934 - accuracy: 0.9677 - val_loss: 0.1098 - val_accuracy: 0.9580\n",
            "Epoch 55/100\n",
            "1333/1333 [==============================] - 3s 3ms/step - loss: 0.0942 - accuracy: 0.9602 - val_loss: 0.1117 - val_accuracy: 0.9632\n",
            "Epoch 56/100\n",
            "1333/1333 [==============================] - 2s 2ms/step - loss: 0.0941 - accuracy: 0.9625 - val_loss: 0.1150 - val_accuracy: 0.9527\n",
            "Epoch 57/100\n",
            "1333/1333 [==============================] - 2s 2ms/step - loss: 0.1028 - accuracy: 0.9602 - val_loss: 0.0994 - val_accuracy: 0.9615\n",
            "Epoch 58/100\n",
            "1333/1333 [==============================] - 2s 2ms/step - loss: 0.0925 - accuracy: 0.9647 - val_loss: 0.1247 - val_accuracy: 0.9492\n",
            "Epoch 59/100\n",
            "1333/1333 [==============================] - 3s 2ms/step - loss: 0.0866 - accuracy: 0.9670 - val_loss: 0.1073 - val_accuracy: 0.9632\n",
            "Epoch 60/100\n",
            "1333/1333 [==============================] - 4s 3ms/step - loss: 0.0891 - accuracy: 0.9685 - val_loss: 0.1015 - val_accuracy: 0.9720\n",
            "Epoch 61/100\n",
            "1333/1333 [==============================] - 4s 3ms/step - loss: 0.0990 - accuracy: 0.9647 - val_loss: 0.1015 - val_accuracy: 0.9667\n",
            "Epoch 62/100\n",
            "1333/1333 [==============================] - 3s 2ms/step - loss: 0.0945 - accuracy: 0.9632 - val_loss: 0.1276 - val_accuracy: 0.9510\n",
            "Epoch 63/100\n",
            "1333/1333 [==============================] - 4s 3ms/step - loss: 0.0908 - accuracy: 0.9640 - val_loss: 0.0990 - val_accuracy: 0.9650\n",
            "Epoch 64/100\n",
            "1333/1333 [==============================] - 4s 3ms/step - loss: 0.0906 - accuracy: 0.9662 - val_loss: 0.0871 - val_accuracy: 0.9667\n",
            "Epoch 65/100\n",
            "1333/1333 [==============================] - 2s 2ms/step - loss: 0.0930 - accuracy: 0.9692 - val_loss: 0.1002 - val_accuracy: 0.9720\n",
            "Epoch 66/100\n",
            "1333/1333 [==============================] - 2s 2ms/step - loss: 0.0910 - accuracy: 0.9655 - val_loss: 0.1252 - val_accuracy: 0.9510\n",
            "Epoch 67/100\n",
            "1333/1333 [==============================] - 2s 2ms/step - loss: 0.0964 - accuracy: 0.9685 - val_loss: 0.0962 - val_accuracy: 0.9667\n",
            "Epoch 68/100\n",
            "1333/1333 [==============================] - 2s 2ms/step - loss: 0.0868 - accuracy: 0.9692 - val_loss: 0.1011 - val_accuracy: 0.9650\n",
            "Epoch 69/100\n",
            "1333/1333 [==============================] - 2s 2ms/step - loss: 0.0845 - accuracy: 0.9700 - val_loss: 0.1056 - val_accuracy: 0.9650\n",
            "Epoch 70/100\n",
            "1333/1333 [==============================] - 2s 2ms/step - loss: 0.0932 - accuracy: 0.9632 - val_loss: 0.0996 - val_accuracy: 0.9650\n",
            "Epoch 71/100\n",
            "1333/1333 [==============================] - 2s 2ms/step - loss: 0.0856 - accuracy: 0.9677 - val_loss: 0.1055 - val_accuracy: 0.9685\n",
            "Epoch 72/100\n",
            "1333/1333 [==============================] - 2s 2ms/step - loss: 0.0919 - accuracy: 0.9640 - val_loss: 0.0877 - val_accuracy: 0.9737\n",
            "Epoch 73/100\n",
            "1333/1333 [==============================] - 2s 2ms/step - loss: 0.0873 - accuracy: 0.9692 - val_loss: 0.0896 - val_accuracy: 0.9702\n",
            "Epoch 74/100\n",
            "1333/1333 [==============================] - 2s 2ms/step - loss: 0.0933 - accuracy: 0.9662 - val_loss: 0.0833 - val_accuracy: 0.9685\n",
            "Epoch 75/100\n",
            "1333/1333 [==============================] - 2s 2ms/step - loss: 0.0846 - accuracy: 0.9692 - val_loss: 0.0784 - val_accuracy: 0.9755\n",
            "Epoch 76/100\n",
            "1333/1333 [==============================] - 2s 2ms/step - loss: 0.0828 - accuracy: 0.9715 - val_loss: 0.1167 - val_accuracy: 0.9580\n",
            "Epoch 77/100\n",
            "1333/1333 [==============================] - 2s 2ms/step - loss: 0.0843 - accuracy: 0.9707 - val_loss: 0.1040 - val_accuracy: 0.9615\n",
            "Epoch 78/100\n",
            "1333/1333 [==============================] - 2s 2ms/step - loss: 0.0848 - accuracy: 0.9677 - val_loss: 0.1305 - val_accuracy: 0.9615\n",
            "Epoch 79/100\n",
            "1333/1333 [==============================] - 2s 2ms/step - loss: 0.0877 - accuracy: 0.9670 - val_loss: 0.0905 - val_accuracy: 0.9702\n",
            "Epoch 80/100\n",
            "1333/1333 [==============================] - 2s 2ms/step - loss: 0.0788 - accuracy: 0.9677 - val_loss: 0.1077 - val_accuracy: 0.9667\n",
            "Epoch 81/100\n",
            "1333/1333 [==============================] - 2s 2ms/step - loss: 0.0867 - accuracy: 0.9700 - val_loss: 0.1635 - val_accuracy: 0.9475\n",
            "Epoch 82/100\n",
            "1333/1333 [==============================] - 2s 2ms/step - loss: 0.0821 - accuracy: 0.9730 - val_loss: 0.0742 - val_accuracy: 0.9755\n",
            "Epoch 83/100\n",
            "1333/1333 [==============================] - 2s 2ms/step - loss: 0.0832 - accuracy: 0.9737 - val_loss: 0.0891 - val_accuracy: 0.9667\n",
            "Epoch 84/100\n",
            "1333/1333 [==============================] - 2s 2ms/step - loss: 0.0822 - accuracy: 0.9715 - val_loss: 0.1478 - val_accuracy: 0.9492\n",
            "Epoch 85/100\n",
            "1333/1333 [==============================] - 2s 2ms/step - loss: 0.0842 - accuracy: 0.9670 - val_loss: 0.0835 - val_accuracy: 0.9685\n",
            "Epoch 86/100\n",
            "1333/1333 [==============================] - 2s 2ms/step - loss: 0.0832 - accuracy: 0.9677 - val_loss: 0.1077 - val_accuracy: 0.9650\n",
            "Epoch 87/100\n",
            "1333/1333 [==============================] - 2s 2ms/step - loss: 0.0827 - accuracy: 0.9647 - val_loss: 0.1101 - val_accuracy: 0.9615\n",
            "Epoch 88/100\n",
            "1333/1333 [==============================] - 2s 2ms/step - loss: 0.0781 - accuracy: 0.9715 - val_loss: 0.0828 - val_accuracy: 0.9702\n",
            "Epoch 89/100\n",
            "1333/1333 [==============================] - 2s 2ms/step - loss: 0.0867 - accuracy: 0.9692 - val_loss: 0.0954 - val_accuracy: 0.9632\n",
            "Epoch 90/100\n",
            "1333/1333 [==============================] - 2s 2ms/step - loss: 0.0788 - accuracy: 0.9692 - val_loss: 0.1065 - val_accuracy: 0.9685\n",
            "Epoch 91/100\n",
            "1333/1333 [==============================] - 2s 2ms/step - loss: 0.0780 - accuracy: 0.9775 - val_loss: 0.0887 - val_accuracy: 0.9737\n",
            "Epoch 92/100\n",
            "1333/1333 [==============================] - 2s 2ms/step - loss: 0.0897 - accuracy: 0.9715 - val_loss: 0.1038 - val_accuracy: 0.9685\n",
            "Epoch 93/100\n",
            "1333/1333 [==============================] - 2s 2ms/step - loss: 0.0732 - accuracy: 0.9767 - val_loss: 0.1360 - val_accuracy: 0.9597\n",
            "Epoch 94/100\n",
            "1333/1333 [==============================] - 2s 2ms/step - loss: 0.0782 - accuracy: 0.9730 - val_loss: 0.1213 - val_accuracy: 0.9597\n",
            "Epoch 95/100\n",
            "1333/1333 [==============================] - 2s 2ms/step - loss: 0.0792 - accuracy: 0.9752 - val_loss: 0.1315 - val_accuracy: 0.9545\n",
            "Epoch 96/100\n",
            "1333/1333 [==============================] - 2s 2ms/step - loss: 0.0772 - accuracy: 0.9730 - val_loss: 0.1214 - val_accuracy: 0.9562\n",
            "Epoch 97/100\n",
            "1333/1333 [==============================] - 2s 2ms/step - loss: 0.0706 - accuracy: 0.9775 - val_loss: 0.0955 - val_accuracy: 0.9685\n",
            "Epoch 98/100\n",
            "1333/1333 [==============================] - 2s 2ms/step - loss: 0.0744 - accuracy: 0.9722 - val_loss: 0.0905 - val_accuracy: 0.9685\n",
            "Epoch 99/100\n",
            "1333/1333 [==============================] - 2s 2ms/step - loss: 0.0777 - accuracy: 0.9670 - val_loss: 0.0933 - val_accuracy: 0.9702\n",
            "Epoch 100/100\n",
            "1333/1333 [==============================] - 2s 2ms/step - loss: 0.0849 - accuracy: 0.9692 - val_loss: 0.1154 - val_accuracy: 0.9632\n"
          ]
        }
      ]
    },
    {
      "cell_type": "code",
      "source": [
        "acc3 = history_dict3['accuracy']\n",
        "val_acc3 = history_dict3['val_accuracy']\n",
        "loss3 = history_dict3['loss']\n",
        "val_loss3 = history_dict3['val_loss']\n",
        "acc = history_dict['accuracy']\n",
        "val_acc = history_dict['val_accuracy']\n",
        "loss = history_dict['loss']\n",
        "val_loss = history_dict['val_loss']\n",
        "acc32 = history_dict32['accuracy']\n",
        "val_acc32 = history_dict32['val_accuracy']\n",
        "loss32 = history_dict32['loss']\n",
        "val_loss32 = history_dict32['val_loss']\n",
        "\n",
        "epochs = range(1, len(acc) + 1)\n",
        "\n",
        "# “bo” represents \"blue point\"\n",
        "plt.plot(epochs, loss3, 'g', label='Training loss(number of neurons=8)',markersize=2)\n",
        "plt.plot(epochs, loss, 'b', label='Training loss(number of neurons=10)',markersize=2)\n",
        "plt.plot(epochs, loss32, 'c', label='Training loss(number of neurons=12)',markersize=2)\n",
        "\n",
        "# b represents “blue line”\n",
        "plt.plot(epochs, val_loss3, 'y', label='Validation loss(number of neurons=8)',markersize=3)\n",
        "plt.plot(epochs, val_loss, 'r', label='Validation loss(number of neurons=10)',markersize=3)\n",
        "plt.plot(epochs, val_loss32, 'm', label='Validation loss(number of neurons=12)',markersize=3)\n",
        "\n",
        "\n",
        "plt.title('Training and validation loss')\n",
        "plt.xlabel('Epochs')\n",
        "plt.ylabel('Loss')\n",
        "plt.legend()\n",
        "plt.xlim((95, 100))\n",
        "plt.ylim((0, 0.2))\n",
        "plt.show()"
      ],
      "metadata": {
        "colab": {
          "base_uri": "https://localhost:8080/",
          "height": 295
        },
        "id": "UABxiqC2uAOM",
        "outputId": "acb7203c-33be-48b1-f3ab-0350dbdad86e"
      },
      "execution_count": null,
      "outputs": [
        {
          "output_type": "display_data",
          "data": {
            "text/plain": [
              "<Figure size 432x288 with 1 Axes>"
            ],
            "image/png": "[encoded data removed]"
          },
          "metadata": {
            "needs_background": "light"
          }
        }
      ]
    },
    {
      "cell_type": "code",
      "source": [
        "plt.clf()   # 清除数字\n",
        "plt.plot(epochs, acc3, 'g', label='Training acc(number of neurons=8)',markersize=2)\n",
        "plt.plot(epochs, acc, 'b', label='Training acc(number of neurons=10)',markersize=2)\n",
        "plt.plot(epochs, acc32, 'c', label='Training acc(number of neurons=12)',markersize=2)\n",
        "\n",
        "plt.plot(epochs, val_acc3, 'y', label='Validation acc(number of neurons=8)',markersize=3)\n",
        "plt.plot(epochs, val_acc, 'r', label='Validation acc(number of neurons=10)',markersize=3)\n",
        "plt.plot(epochs, val_acc32, 'm', label='Validation acc(number of neurons=12)',markersize=3)\n",
        "\n",
        "plt.title('Training and validation accuracy(number of neurons=8)')\n",
        "plt.xlabel('Epochs')\n",
        "plt.ylabel('Accuracy')\n",
        "plt.legend()\n",
        "plt.xlim((95, 100))\n",
        "plt.ylim((0.95, 1))\n",
        "plt.show()"
      ],
      "metadata": {
        "colab": {
          "base_uri": "https://localhost:8080/",
          "height": 295
        },
        "id": "54ULas5GvICN",
        "outputId": "19deb5d7-3f55-4d86-9ba9-be6afd14e40f"
      },
      "execution_count": null,
      "outputs": [
        {
          "output_type": "display_data",
          "data": {
            "text/plain": [
              "<Figure size 432x288 with 1 Axes>"
            ],
            "image/png": "[encoded data removed]"
          },
          "metadata": {
            "needs_background": "light"
          }
        }
      ]
    },
    {
      "cell_type": "code",
      "source": [],
      "metadata": {
        "id": "UUV1vAxZrOEP"
      },
      "execution_count": null,
      "outputs": []
    },
    {
      "cell_type": "markdown",
      "source": [
        "## Estimator by tensorflow\n"
      ],
      "metadata": {
        "id": "kg8f85dEVsIz"
      }
    },
    {
      "cell_type": "code",
      "source": [],
      "metadata": {
        "id": "NKI3jy_8Z3K-"
      },
      "execution_count": null,
      "outputs": []
    },
    {
      "cell_type": "code",
      "source": [
        "def input_fn(features, labels, training=True, batch_size=1):\n",
        "    \"\"\"An input function for training or evaluating\"\"\"\n",
        "    # 将输入转换为数据集。\n",
        "    dataset = tf.data.Dataset.from_tensor_slices((dict(features), labels))\n",
        "\n",
        "    # 如果在训练模式下混淆并重复数据。\n",
        "    if training:\n",
        "        dataset = dataset.shuffle(1000).repeat()\n",
        "\n",
        "    return dataset.batch(batch_size)"
      ],
      "metadata": {
        "id": "TH9pE8tZ1iob"
      },
      "execution_count": null,
      "outputs": []
    },
    {
      "cell_type": "code",
      "source": [
        "# 特征列描述了如何使用输入。\n",
        "my_feature_columns = []\n",
        "for key in x_train.keys():\n",
        "    my_feature_columns.append(tf.feature_column.numeric_column(key=key))"
      ],
      "metadata": {
        "id": "YZydz4YGnJaP"
      },
      "execution_count": null,
      "outputs": []
    },
    {
      "cell_type": "code",
      "source": [
        "# 构建一个拥有两个隐层，隐藏节点分别为 30 和 10 的深度神经网络。\n",
        "classifier = tf.estimator.DNNClassifier(\n",
        "    feature_columns=my_feature_columns,\n",
        "    # 隐层所含结点数量分别为 30 和 10.\n",
        "    hidden_units=[30, 10],\n",
        "    # 模型必须从三个类别中做出选择。\n",
        "    n_classes=2)"
      ],
      "metadata": {
        "colab": {
          "base_uri": "https://localhost:8080/"
        },
        "id": "et5jh87umx5C",
        "outputId": "d387b03b-2c80-4c27-ab8d-677dc988eb1f"
      },
      "execution_count": null,
      "outputs": [
        {
          "output_type": "stream",
          "name": "stderr",
          "text": [
            "WARNING:tensorflow:Using temporary folder as model directory: /tmp/tmpa9dmub0y\n"
          ]
        }
      ]
    },
    {
      "cell_type": "code",
      "source": [
        "# 训练模型。\n",
        "history3 = classifier.train(\n",
        "    input_fn=lambda: input_fn(x_train, y_train, training=True),\n",
        "    steps=1000)"
      ],
      "metadata": {
        "colab": {
          "base_uri": "https://localhost:8080/"
        },
        "id": "6edTRA8tm3OS",
        "outputId": "be4b8c57-0f1c-4b51-e2dc-9babcf05cf91"
      },
      "execution_count": null,
      "outputs": [
        {
          "output_type": "execute_result",
          "data": {
            "text/plain": [
              "<tensorflow_estimator.python.estimator.canned.dnn.DNNClassifierV2 at 0x7f9bad77a8d0>"
            ]
          },
          "metadata": {},
          "execution_count": 132
        }
      ]
    },
    {
      "cell_type": "code",
      "source": [
        "history_dict3 = history3.history\n",
        "history_dict3"
      ],
      "metadata": {
        "id": "YhHJAx_qd-t-"
      },
      "execution_count": null,
      "outputs": []
    },
    {
      "cell_type": "code",
      "source": [
        "eval_result = classifier.evaluate(\n",
        "    input_fn=lambda: input_fn(x_test, y_test, training=False))\n",
        "\n",
        "print('\\nTest set accuracy: {accuracy:0.3f}\\n'.format(**eval_result))"
      ],
      "metadata": {
        "colab": {
          "base_uri": "https://localhost:8080/"
        },
        "id": "sG58gD4rm3vI",
        "outputId": "d133e194-1eb1-41c5-a6ba-5aa6dac4d30a"
      },
      "execution_count": null,
      "outputs": [
        {
          "output_type": "stream",
          "name": "stdout",
          "text": [
            "\n",
            "Test set accuracy: 0.905\n",
            "\n"
          ]
        }
      ]
    },
    {
      "cell_type": "code",
      "execution_count": null,
      "metadata": {
        "colab": {
          "base_uri": "https://localhost:8080/"
        },
        "id": "MtjbNKLRuQ1d",
        "outputId": "c0b07bac-12fa-4282-9592-4dce2fa64e8c"
      },
      "outputs": [
        {
          "name": "stdout",
          "output_type": "stream",
          "text": [
            "<class 'pandas.core.frame.DataFrame'>\n",
            "RangeIndex: 571 entries, 0 to 570\n",
            "Data columns (total 36 columns):\n",
            " #   Column              Non-Null Count  Dtype  \n",
            "---  ------              --------------  -----  \n",
            " 0   Unnamed: 0          571 non-null    int64  \n",
            " 1   RAJ2000             571 non-null    float64\n",
            " 2   DEJ2000             571 non-null    float64\n",
            " 3   GLON                571 non-null    float64\n",
            " 4   GLAT                571 non-null    float64\n",
            " 5   Spectral_Index      571 non-null    float64\n",
            " 6   Energy_Flux100      571 non-null    float64\n",
            " 7   Variability_Index   571 non-null    float64\n",
            " 8   Conf_68_SemiMajor   571 non-null    float64\n",
            " 9   Conf_68_SemiMinor   571 non-null    float64\n",
            " 10  Conf_68_PosAng      571 non-null    float64\n",
            " 11  Conf_95_SemiMajor   571 non-null    float64\n",
            " 12  Conf_95_SemiMinor   571 non-null    float64\n",
            " 13  Conf_95_PosAng      571 non-null    float64\n",
            " 14  Signif_Avg          571 non-null    float64\n",
            " 15  Pivot_Energy        571 non-null    float64\n",
            " 16  Flux_Density        571 non-null    float64\n",
            " 17  Unc_Flux_Density    571 non-null    float64\n",
            " 18  Flux1000            571 non-null    float64\n",
            " 19  Unc_Flux1000        571 non-null    float64\n",
            " 20  Unc_Energy_Flux100  571 non-null    float64\n",
            " 21  Signif_Curve        571 non-null    float64\n",
            " 22  Flux100_300         571 non-null    float64\n",
            " 23  Flux300_1000        571 non-null    float64\n",
            " 24  Flux1000_3000       571 non-null    float64\n",
            " 25  Flux3000_10000      571 non-null    float64\n",
            " 26  Flux10000_100000    571 non-null    float64\n",
            " 27  SED100_300          571 non-null    float64\n",
            " 28  SED300_1000         571 non-null    float64\n",
            " 29  SED1000_3000        571 non-null    float64\n",
            " 30  SED3000_10000       571 non-null    float64\n",
            " 31  SED10000_100000     571 non-null    float64\n",
            " 32  hr12                571 non-null    float64\n",
            " 33  hr23                571 non-null    float64\n",
            " 34  hr34                571 non-null    float64\n",
            " 35  hr45                571 non-null    float64\n",
            "dtypes: float64(35), int64(1)\n",
            "memory usage: 160.7 KB\n"
          ]
        }
      ],
      "source": [
        "x_test.info()"
      ]
    },
    {
      "cell_type": "code",
      "execution_count": null,
      "metadata": {
        "id": "dg4fAmqkmBVo"
      },
      "outputs": [],
      "source": []
    }
  ],
  "metadata": {
    "colab": {
      "provenance": [],
      "mount_file_id": "1tvV2nR_pM3IU2W8W0RVBZ4QPubLF8qVY",
      "authorship_tag": "ABX9TyM/wRgJbLVYZDElPpVdFYn2",
      "include_colab_link": true
    },
    "gpuClass": "standard",
    "kernelspec": {
      "display_name": "Python 3",
      "name": "python3"
    },
    "language_info": {
      "name": "python"
    }
  },
  "nbformat": 4,
  "nbformat_minor": 0
}